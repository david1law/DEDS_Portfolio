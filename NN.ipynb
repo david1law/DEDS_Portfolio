{
 "cells": [
  {
   "cell_type": "code",
   "execution_count": 58,
   "metadata": {},
   "outputs": [],
   "source": [
    "import numpy as np\n",
    "\n",
    "# De functie die gebruikt wordt om de output van de neuronen te berekenen\n",
    "def sigmoid(x):\n",
    "    return 1 / (1 + np.exp(-x))\n",
    "\n",
    "def sigmoid_derivative(x):\n",
    "    return x * (1 - x)\n"
   ]
  },
  {
   "cell_type": "code",
   "execution_count": 59,
   "metadata": {},
   "outputs": [],
   "source": [
    "# Training inputdata en verwachte output\n",
    "training_inputs = np.array([[0, 0, 0, 1], \n",
    "                            [1, 1, 1, 1], \n",
    "                            [1, 0, 1, 0], \n",
    "                            [0, 1, 0, 1]])\n",
    "training_outputs = np.array([[0, 1, 1, 0]]).T"
   ]
  },
  {
   "cell_type": "code",
   "execution_count": 60,
   "metadata": {},
   "outputs": [
    {
     "name": "stdout",
     "output_type": "stream",
     "text": [
      "Random startgewichten: \n",
      "[[-0.16595599  0.44064899 -0.99977125 -0.39533485]\n",
      " [-0.70648822 -0.81532281 -0.62747958 -0.30887855]\n",
      " [-0.20646505  0.07763347 -0.16161097  0.370439  ]\n",
      " [-0.5910955   0.75623487 -0.94522481  0.34093502]]\n",
      "Random outputgewichten: \n",
      "[[-0.1653904 ]\n",
      " [ 0.11737966]\n",
      " [-0.71922612]\n",
      " [-0.60379702]]\n"
     ]
    }
   ],
   "source": [
    "np.random.seed(1)\n",
    "# Gewichten tussen de inputlaag en de verborgen laag\n",
    "synaptic_weights_input_hidden = 2 * np.random.random((4, 4)) - 1\n",
    "# Gewichten tussen de verborgen laag en de uitvoerlaag\n",
    "synaptic_weights_hidden_output = 2 * np.random.random((4, 1)) - 1\n",
    "\n",
    "print('Random startgewichten: ')\n",
    "print(synaptic_weights_input_hidden)\n",
    "print('Random outputgewichten: ')\n",
    "print(synaptic_weights_hidden_output)"
   ]
  },
  {
   "cell_type": "code",
   "execution_count": 61,
   "metadata": {},
   "outputs": [
    {
     "name": "stdout",
     "output_type": "stream",
     "text": [
      "Gewichten voor de hidden layer: \n",
      "[[-0.24139693  2.66607982 -2.54895196 -2.63370043]\n",
      " [-0.70751973 -0.57432138 -0.13852732 -0.40442554]\n",
      " [-0.28190599  2.3030643  -1.71079168 -1.86792657]\n",
      " [-0.55267478 -1.36614856  1.50566603  1.90350378]]\n",
      "Gewichten voor de output: \n",
      "[[ 0.04025336]\n",
      " [ 6.05837266]\n",
      " [-3.96674424]\n",
      " [-4.37470205]]\n",
      "Output: \n",
      "[[0.00299547]\n",
      " [0.995364  ]\n",
      " [0.997344  ]\n",
      " [0.00255439]]\n",
      "Afgeronde output: \n",
      "[[0]\n",
      " [1]\n",
      " [1]\n",
      " [0]]\n",
      "Trainingsoutput: \n",
      "[[0]\n",
      " [1]\n",
      " [1]\n",
      " [0]]\n"
     ]
    }
   ],
   "source": [
    "for i in range(20000):\n",
    "    # Voorwaartse propagatie\n",
    "    input_layer = training_inputs\n",
    "    hidden_layer_input = np.dot(input_layer, synaptic_weights_input_hidden)\n",
    "    hidden_layer_output = sigmoid(hidden_layer_input)\n",
    "    output_layer_input = np.dot(hidden_layer_output, synaptic_weights_hidden_output)\n",
    "    outputs = sigmoid(output_layer_input)\n",
    "\n",
    "    error = training_outputs - outputs\n",
    "\n",
    "    output_adjustments = error * sigmoid_derivative(outputs)\n",
    "\n",
    "    # Backpropagatie naar de hidden layer\n",
    "    hidden_error = np.dot(output_adjustments, synaptic_weights_hidden_output.T)\n",
    "    hidden_adjustments = hidden_error * sigmoid_derivative(hidden_layer_output)\n",
    "\n",
    "    # Aanpassen van de gewichten\n",
    "    synaptic_weights_hidden_output += np.dot(hidden_layer_output.T, output_adjustments)\n",
    "    synaptic_weights_input_hidden += np.dot(input_layer.T, hidden_adjustments)\n",
    "\n",
    "#alle resultaten printen\n",
    "print('Gewichten voor de hidden layer: ')\n",
    "print(synaptic_weights_input_hidden)\n",
    "print('Gewichten voor de output: ')\n",
    "print(synaptic_weights_hidden_output)\n",
    "\n",
    "print('Output: ')\n",
    "print(outputs)\n",
    "\n",
    "print('Afgeronde output: ')\n",
    "print(np.round(outputs).astype(int))\n",
    "\n",
    "print('Trainingsoutput: ')\n",
    "print(training_outputs)\n"
   ]
  }
 ],
 "metadata": {
  "kernelspec": {
   "display_name": "Python 3",
   "language": "python",
   "name": "python3"
  },
  "language_info": {
   "codemirror_mode": {
    "name": "ipython",
    "version": 3
   },
   "file_extension": ".py",
   "mimetype": "text/x-python",
   "name": "python",
   "nbconvert_exporter": "python",
   "pygments_lexer": "ipython3",
   "version": "3.12.2"
  }
 },
 "nbformat": 4,
 "nbformat_minor": 2
}
