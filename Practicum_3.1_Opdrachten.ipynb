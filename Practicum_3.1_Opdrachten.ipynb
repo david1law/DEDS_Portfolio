{
 "cells": [
  {
   "cell_type": "code",
   "execution_count": null,
   "metadata": {},
   "outputs": [],
   "source": [
    "import random\n",
    "\n",
    "def selection_sort(arr):\n",
    "    gesorteerd = arr[:]\n",
    "    n = len(gesorteerd)\n",
    "    for i in range(n):\n",
    "        # Vind het minimumelement in de rest van de array\n",
    "        min_index = i\n",
    "        for j in range(i + 1, n):\n",
    "            if gesorteerd[j] < gesorteerd[min_index]:\n",
    "                min_index = j\n",
    "        # Wissel het minimumelement met het element op de huidige positie\n",
    "        gesorteerd[i], gesorteerd[min_index] = gesorteerd[min_index], gesorteerd[i]\n",
    "\n",
    "    return gesorteerd\n",
    "\n",
    "def bubble_sort(arr):\n",
    "    gesorteerd = arr[:]\n",
    "    n = len(gesorteerd)\n",
    "    for i in range(n):\n",
    "        # Laat het grootste element op de juiste positie \"bubbelen\"\n",
    "        for j in range(0, n - i - 1):\n",
    "            if gesorteerd[j] > gesorteerd[j + 1]:\n",
    "                # Wissel van plaats als het volgende element kleiner is\n",
    "                gesorteerd[j], gesorteerd[j + 1] = gesorteerd[j + 1], gesorteerd[j]\n",
    "\n",
    "    return gesorteerd\n",
    "\n",
    "def insertion_sort(arr):\n",
    "    gesorteerd = arr[:]\n",
    "    for i in range(1, len(gesorteerd)):\n",
    "        key = gesorteerd[i]\n",
    "        j = i - 1\n",
    "        while j >= 0 and gesorteerd[j] > key:\n",
    "            gesorteerd[j + 1] = gesorteerd[j]\n",
    "            j -= 1\n",
    "        gesorteerd[j + 1] = key\n",
    "        \n",
    "    return gesorteerd\n",
    "\n",
    "lijst = [random.randint(1, 100) for _ in range(5)]\n",
    "\n",
    "print(\"Randomized array:\")\n",
    "print(lijst)\n",
    "\n",
    "print(\"\\nSelection Sort array:\")\n",
    "print(selection_sort(lijst))\n",
    "\n",
    "print(\"\\nBubble Sort array:\")\n",
    "print(bubble_sort(lijst))\n",
    "\n",
    "print(\"\\nInsertion Sort array:\")\n",
    "print(insertion_sort(lijst))"
   ]
  }
 ],
 "metadata": {
  "kernelspec": {
   "display_name": "Python 3",
   "language": "python",
   "name": "python3"
  },
  "language_info": {
   "codemirror_mode": {
    "name": "ipython",
    "version": 3
   },
   "file_extension": ".py",
   "mimetype": "text/x-python",
   "name": "python",
   "nbconvert_exporter": "python",
   "pygments_lexer": "ipython3",
   "version": "3.12.2"
  }
 },
 "nbformat": 4,
 "nbformat_minor": 2
}
