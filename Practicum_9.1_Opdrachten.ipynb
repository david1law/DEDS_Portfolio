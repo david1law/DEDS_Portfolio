{
 "cells": [
  {
   "cell_type": "markdown",
   "metadata": {},
   "source": [
    "# Week 9-1: Unsupervised Machine Learning"
   ]
  },
  {
   "cell_type": "markdown",
   "metadata": {},
   "source": [
    "## Bibliotheken importeren"
   ]
  },
  {
   "cell_type": "code",
   "execution_count": null,
   "metadata": {},
   "outputs": [],
   "source": [
    "import pandas as pd\n",
    "import sqlite3 as s3\n",
    "from sklearn.cluster import KMeans\n",
    "import math\n",
    "import matplotlib.pyplot as plt\n",
    "import warnings\n",
    "import numpy as np\n",
    "warnings.simplefilter('ignore')"
   ]
  },
  {
   "cell_type": "markdown",
   "metadata": {},
   "source": [
    "## Data inlezen en kolommen selecteren"
   ]
  },
  {
   "cell_type": "code",
   "execution_count": null,
   "metadata": {},
   "outputs": [],
   "source": [
    "go_sales = s3.connect('go_sales.sqlite')\n",
    "go_crm = s3.connect('go_crm.sqlite')\n",
    "df = pd.read_sql_query('SELECT * FROM sales_branch', go_sales)\n",
    "df = pd.merge(df, pd.read_sql_query('SELECT * FROM country', go_crm), on='COUNTRY_CODE')\n",
    "df = pd.merge(df, pd.read_sql_query('SELECT * FROM sales_territory', go_crm), on='SALES_TERRITORY_CODE')\n",
    "df\n",
    "\n",
    "# SALES BRANCH EN STAFF"
   ]
  },
  {
   "cell_type": "code",
   "execution_count": null,
   "metadata": {},
   "outputs": [],
   "source": [
    "df = df.loc[:, ['SALES_BRANCH_CODE', 'COUNTRY_CODE', 'SALES_TERRITORY_CODE', 'REGION', 'CITY']]\n",
    "df"
   ]
  },
  {
   "cell_type": "markdown",
   "metadata": {},
   "source": [
    "## One-hot encoding van onafhankelijke niet-numerieke variabelen"
   ]
  },
  {
   "cell_type": "code",
   "execution_count": null,
   "metadata": {},
   "outputs": [],
   "source": [
    "# df['Pclass'] = df['Pclass'].astype(str)\n",
    "# df.dtypes"
   ]
  },
  {
   "cell_type": "code",
   "execution_count": null,
   "metadata": {},
   "outputs": [],
   "source": [
    "df = pd.get_dummies(df, columns=['REGION', 'CITY'])\n",
    "\n",
    "df"
   ]
  },
  {
   "cell_type": "code",
   "execution_count": null,
   "metadata": {},
   "outputs": [],
   "source": []
  },
  {
   "cell_type": "markdown",
   "metadata": {},
   "source": [
    "## Clusteringmodel bouwen met 2 dimensies"
   ]
  },
  {
   "cell_type": "code",
   "execution_count": null,
   "metadata": {},
   "outputs": [],
   "source": [
    "# df_2d = df.loc[:, ['Age', 'Survived']]\n",
    "# df_2d"
   ]
  },
  {
   "cell_type": "code",
   "execution_count": null,
   "metadata": {},
   "outputs": [],
   "source": [
    "kmeans = KMeans(n_clusters = 8, random_state = 42)\n",
    "prediction_results = kmeans.fit_predict(df)\n",
    "prediction_results"
   ]
  },
  {
   "cell_type": "code",
   "execution_count": null,
   "metadata": {},
   "outputs": [],
   "source": [
    "# kmeans_centra = pd.DataFrame(kmeans.cluster_centers_)\n",
    "# kmeans_centra"
   ]
  },
  {
   "cell_type": "code",
   "execution_count": null,
   "metadata": {},
   "outputs": [],
   "source": [
    "# for i in range(len(kmeans_centra.columns)):\n",
    "#     kmeans_centra = kmeans_centra.rename(columns = {i : f'{df_2d.columns[i]}'})\n",
    "    \n",
    "# kmeans_centra"
   ]
  },
  {
   "cell_type": "code",
   "execution_count": null,
   "metadata": {},
   "outputs": [],
   "source": [
    "# for src_index, _ in df_2d.iterrows():\n",
    "#     euclidian_distances = dict()\n",
    "#     print(f\"Afstand van bronindex {src_index} tot...\")\n",
    "\n",
    "#     for centrumindex, _ in kmeans_centra.iterrows():\n",
    "#         print(f\"\\tCentrumindex {centrumindex}:\")\n",
    "#         euclidian_sum = 0\n",
    "\n",
    "#         for column_name in kmeans_centra.columns:\n",
    "#             current_difference = df_2d.at[src_index, column_name] - kmeans_centra.at[centrumindex, column_name]\n",
    "#             print(f'\\t\\t{df_2d.at[src_index, column_name]} - {kmeans_centra.at[centrumindex, column_name]} = {current_difference}')\n",
    "#             euclidian_sum += current_difference ** 2\n",
    "        \n",
    "#         print(f'\\tTotale euclidische som: {euclidian_sum}')\n",
    "#         euclidian_distance = math.sqrt(euclidian_sum)\n",
    "#         print(f'\\tEuclidische afstand: {euclidian_distance}')\n",
    "#         euclidian_distances[centrumindex] = euclidian_distance\n",
    "#         print('------------------------------------------------')\n",
    "    \n",
    "#     print(euclidian_distances)\n",
    "#     centrum_number = min(euclidian_distances, key = euclidian_distances.get)\n",
    "#     print(centrum_number)\n",
    "#     df_2d.at[src_index, 'Centrum'] = centrum_number\n",
    "#     print(\"================================================\")\n",
    "\n",
    "# df_2d"
   ]
  },
  {
   "cell_type": "code",
   "execution_count": null,
   "metadata": {},
   "outputs": [],
   "source": [
    "df['Centrum'] = prediction_results\n",
    "df"
   ]
  },
  {
   "cell_type": "code",
   "execution_count": null,
   "metadata": {},
   "outputs": [],
   "source": [
    "plt.scatter(df['SALES_BRANCH_CODE'], df['Centrum'], color = 'k')\n",
    "plt.show()"
   ]
  },
  {
   "cell_type": "code",
   "execution_count": null,
   "metadata": {},
   "outputs": [],
   "source": [
    "df.groupby('Centrum', as_index = False)['Centrum'].count()"
   ]
  },
  {
   "cell_type": "markdown",
   "metadata": {},
   "source": [
    "## Clusteringmodel bouwen met meer dan 2 dimensies (alle kolommen uit de dataset)"
   ]
  },
  {
   "cell_type": "markdown",
   "metadata": {},
   "source": [
    "### Centra berekenen"
   ]
  },
  {
   "cell_type": "code",
   "execution_count": null,
   "metadata": {},
   "outputs": [],
   "source": [
    "kmeans = KMeans(n_clusters = 6, random_state = 42)\n",
    "prediction_results = kmeans.fit_predict(df)\n",
    "prediction_results"
   ]
  },
  {
   "cell_type": "code",
   "execution_count": null,
   "metadata": {},
   "outputs": [],
   "source": [
    "df['Centrum'] = prediction_results\n",
    "df"
   ]
  },
  {
   "cell_type": "markdown",
   "metadata": {},
   "source": [
    "### De juiste centra toewijzen aan rijen uit de dataset"
   ]
  },
  {
   "cell_type": "code",
   "execution_count": null,
   "metadata": {},
   "outputs": [],
   "source": [
    "df.groupby('Centrum', as_index = False)['Centrum'].count()"
   ]
  },
  {
   "cell_type": "markdown",
   "metadata": {},
   "source": [
    "## Evalueren"
   ]
  },
  {
   "cell_type": "code",
   "execution_count": null,
   "metadata": {},
   "outputs": [],
   "source": []
  }
 ],
 "metadata": {
  "kernelspec": {
   "display_name": "Python 3",
   "language": "python",
   "name": "python3"
  },
  "language_info": {
   "codemirror_mode": {
    "name": "ipython",
    "version": 3
   },
   "file_extension": ".py",
   "mimetype": "text/x-python",
   "name": "python",
   "nbconvert_exporter": "python",
   "pygments_lexer": "ipython3",
   "version": "3.12.2"
  }
 },
 "nbformat": 4,
 "nbformat_minor": 2
}
