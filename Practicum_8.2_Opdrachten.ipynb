{
 "cells": [
  {
   "cell_type": "code",
   "execution_count": null,
   "metadata": {},
   "outputs": [],
   "source": [
    "import pandas as pd\n",
    "import sqlite3 as s3\n",
    "from sklearn.model_selection import train_test_split\n",
    "from sklearn.tree import DecisionTreeClassifier\n",
    "from sklearn import tree\n",
    "from sklearn import metrics\n",
    "import matplotlib.pyplot as plt\n",
    "import warnings\n",
    "warnings.simplefilter('ignore')\n",
    "\n",
    "go_sales = s3.connect('go_sales.sqlite')\n",
    "\n",
    "order_details = pd.read_sql_query('SELECT * FROM order_details', go_sales)\n",
    "order_header = pd.read_sql_query('SELECT * FROM order_header', go_sales)\n",
    "returned_item = pd.read_sql_query('SELECT * FROM returned_item', go_sales)"
   ]
  },
  {
   "cell_type": "code",
   "execution_count": null,
   "metadata": {},
   "outputs": [],
   "source": [
    "merged_orders = pd.merge(order_details, order_header, left_on='ORDER_NUMBER', how='inner', right_on='ORDER_NUMBER')\n",
    "returned_orders = pd.merge(merged_orders, returned_item, left_on='ORDER_DETAIL_CODE', how='outer', right_on='ORDER_DETAIL_CODE')\n",
    "returned_orders = returned_orders[['PRODUCT_NUMBER', 'QUANTITY', 'UNIT_PRICE', 'UNIT_SALE_PRICE', 'RETAILER_SITE_CODE', 'ORDER_DATE', 'RETURN_DATE', 'RETURN_REASON_CODE']]\n",
    "# returned_orders['RETURN_DATE'] = returned_orders['RETURN_DATE'].fillna(0)\n",
    "# returned_orders['RETURN_REASON_CODE'] = returned_orders['RETURN_REASON_CODE'].fillna(0)\n",
    "# returned_orders = returned_orders[returned_orders['RETURN_REASON_CODE'] != 0]\n",
    "returned_orders['ORDER_DATE'] = pd.to_datetime(returned_orders['ORDER_DATE'])\n",
    "returned_orders['RETURN_DATE'] = pd.to_datetime(returned_orders['RETURN_DATE'], format=\"%d-%m-%Y %H:%M:%S\")\n",
    "returned_orders['RETURN_DAY'] = returned_orders['RETURN_DATE'].dt.day\n",
    "returned_orders['RETURN_MONTH'] = returned_orders['RETURN_DATE'].dt.month\n",
    "returned_orders['RETURN_YEAR'] = returned_orders['RETURN_DATE'].dt.year\n",
    "returned_orders = returned_orders.drop('RETURN_DATE', axis=1)\n",
    "returned_orders['ORDER_DATE'] = pd.to_datetime(returned_orders['ORDER_DATE'])\n",
    "returned_orders['ORDER_DAY'] = returned_orders['ORDER_DATE'].dt.day\n",
    "returned_orders['ORDER_MONTH'] = returned_orders['ORDER_DATE'].dt.month\n",
    "returned_orders['ORDER_YEAR'] = returned_orders['ORDER_DATE'].dt.year\n",
    "returned_orders = returned_orders.drop('ORDER_DATE', axis=1)\n",
    "# returned_orders = returned_orders[returned_orders['RETURN_REASON_CODE'].notna()]\n",
    "df = returned_orders\n",
    "df"
   ]
  },
  {
   "cell_type": "code",
   "execution_count": null,
   "metadata": {},
   "outputs": [],
   "source": [
    "x = df.drop('RETURN_REASON_CODE', axis = 1)\n",
    "y = df.loc[:, ['RETURN_REASON_CODE']]\n",
    "x\n",
    "\n",
    "x_train, x_text, y_train, y_test = train_test_split(x, y, test_size=0.15, random_state=42)\n",
    "\n",
    "dtree = DecisionTreeClassifier(max_depth=2)\n",
    "dtree = dtree.fit(x_train, y_train)\n",
    "tree.plot_tree(dtree, feature_names=x.columns)\n",
    "plt.show()"
   ]
  }
 ],
 "metadata": {
  "language_info": {
   "name": "python"
  }
 },
 "nbformat": 4,
 "nbformat_minor": 2
}
