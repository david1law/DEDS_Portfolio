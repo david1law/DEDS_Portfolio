{
 "cells": [
  {
   "cell_type": "markdown",
   "metadata": {},
   "source": [
    "## Setup"
   ]
  },
  {
   "cell_type": "code",
   "execution_count": null,
   "metadata": {},
   "outputs": [],
   "source": [
    "import pandas as pd\n",
    "import sqlite3 as s3\n",
    "from sklearn.model_selection import train_test_split\n",
    "from sklearn.tree import DecisionTreeClassifier\n",
    "from sklearn import tree\n",
    "from sklearn import metrics\n",
    "import matplotlib.pyplot as plt\n",
    "import warnings\n",
    "warnings.simplefilter('ignore')\n",
    "\n",
    "go_sales = s3.connect('go_sales.sqlite')\n",
    "\n",
    "order_details = pd.read_sql_query('SELECT * FROM order_details', go_sales)\n",
    "order_header = pd.read_sql_query('SELECT * FROM order_header', go_sales)\n",
    "returned_item = pd.read_sql_query('SELECT * FROM returned_item', go_sales)"
   ]
  },
  {
   "cell_type": "markdown",
   "metadata": {},
   "source": [
    "## Trainset"
   ]
  },
  {
   "cell_type": "code",
   "execution_count": null,
   "metadata": {},
   "outputs": [],
   "source": [
    "merged_orders = pd.merge(order_details, order_header, left_on='ORDER_NUMBER', how='inner', right_on='ORDER_NUMBER')\n",
    "df = pd.merge(merged_orders, returned_item, left_on='ORDER_DETAIL_CODE', how='outer', right_on='ORDER_DETAIL_CODE')\n",
    "df = df[['PRODUCT_NUMBER', 'QUANTITY', 'UNIT_PRICE', 'UNIT_SALE_PRICE', 'RETAILER_SITE_CODE', 'ORDER_DATE', 'RETURN_DATE', 'RETURN_REASON_CODE']]\n",
    "\n",
    "# Om de RETURN_DATE mee te geven aan de trainset. Format de data en vervolgens afsplitsen in dag maand jaar.\n",
    "df['RETURN_DATE'] = pd.to_datetime(df['RETURN_DATE'], format=\"%d-%m-%Y %H:%M:%S\")\n",
    "df['RETURN_DAY'] = df['RETURN_DATE'].dt.day\n",
    "df['RETURN_MONTH'] = df['RETURN_DATE'].dt.month\n",
    "df['RETURN_YEAR'] = df['RETURN_DATE'].dt.year\n",
    "df = df.drop('RETURN_DATE', axis=1)\n",
    "\n",
    "# Om de afgesplitste RETURN_DATE dagen maanden en jaren te vullen met 0, als de bestelling niet is geretourneerd en dus geen RETURN_DATE heeft.\n",
    "df['RETURN_DAY'] = df['RETURN_DAY'].fillna(0).astype(int)\n",
    "df['RETURN_MONTH'] = df['RETURN_MONTH'].fillna(0).astype(int)\n",
    "df['RETURN_YEAR'] = df['RETURN_YEAR'].fillna(0).astype(int)\n",
    "\n",
    "# Om de ORDER_DATE af te splitsen in dag maand en jaar.\n",
    "df['ORDER_DATE'] = pd.to_datetime(df['ORDER_DATE'])\n",
    "df['ORDER_DAY'] = df['ORDER_DATE'].dt.day\n",
    "df['ORDER_MONTH'] = df['ORDER_DATE'].dt.month\n",
    "df['ORDER_YEAR'] = df['ORDER_DATE'].dt.year\n",
    "df = df.drop('ORDER_DATE', axis=1)\n",
    "\n",
    "# Vult de RETURN_REASON_CODE met 0 voor de bestellingen die niet geretourneerd zijn.\n",
    "df['RETURN_REASON_CODE'] = df['RETURN_REASON_CODE'].fillna(0).astype(int)\n",
    "\n",
    "# Een filter om de trainset alleen de geretourneerde bestellingen mee te geven. Comment voor álle bestellingen, uncomment voor alleen de geretourneerde bestellingen.\n",
    "df = df[df['RETURN_REASON_CODE'] != 0]\n",
    "df"
   ]
  },
  {
   "cell_type": "code",
   "execution_count": null,
   "metadata": {},
   "outputs": [],
   "source": [
    "x = df.drop('RETURN_REASON_CODE', axis = 1)\n",
    "y = df.loc[:, ['RETURN_REASON_CODE']]\n",
    "\n",
    "x_train, x_text, y_train, y_test = train_test_split(x, y, test_size=0.15, random_state=35)\n",
    "\n",
    "dtree = DecisionTreeClassifier(max_depth=2)\n",
    "dtree = dtree.fit(x_train, y_train)\n",
    "tree.plot_tree(dtree, feature_names=x.columns)\n",
    "plt.show()"
   ]
  },
  {
   "cell_type": "code",
   "execution_count": null,
   "metadata": {},
   "outputs": [],
   "source": [
    "predicted_df = pd.DataFrame(dtree.predict(x_text))\n",
    "predicted_df = predicted_df.rename(columns={0:'Predicted Reason Code'})\n",
    "model_results_frame = pd.concat([y_test.reset_index()['RETURN_REASON_CODE'], predicted_df], axis=1)\n",
    "model_results_frame"
   ]
  },
  {
   "cell_type": "code",
   "execution_count": null,
   "metadata": {},
   "outputs": [],
   "source": [
    "confusion_matrix = metrics.confusion_matrix(model_results_frame['RETURN_REASON_CODE'], model_results_frame['Predicted Reason Code'])\n",
    "\n",
    "# Uncomment voor álle bestellingen.\n",
    "# cm_display = metrics.ConfusionMatrixDisplay(confusion_matrix = confusion_matrix, display_labels = [0, 1, 2, 3, 4, 5])\n",
    "# Uncomment voor alleen de geretourneerde bestellingen.\n",
    "cm_display = metrics.ConfusionMatrixDisplay(confusion_matrix = confusion_matrix, display_labels = [1, 2, 3, 4, 5])\n",
    "\n",
    "cm_display.plot()\n",
    "plt.show()"
   ]
  },
  {
   "cell_type": "code",
   "execution_count": null,
   "metadata": {},
   "outputs": [],
   "source": [
    "metrics.accuracy_score(model_results_frame['RETURN_REASON_CODE'], model_results_frame['Predicted Reason Code'])"
   ]
  }
 ],
 "metadata": {
  "kernelspec": {
   "display_name": "Python 3",
   "language": "python",
   "name": "python3"
  },
  "language_info": {
   "codemirror_mode": {
    "name": "ipython",
    "version": 3
   },
   "file_extension": ".py",
   "mimetype": "text/x-python",
   "name": "python",
   "nbconvert_exporter": "python",
   "pygments_lexer": "ipython3",
   "version": "3.12.2"
  }
 },
 "nbformat": 4,
 "nbformat_minor": 2
}
