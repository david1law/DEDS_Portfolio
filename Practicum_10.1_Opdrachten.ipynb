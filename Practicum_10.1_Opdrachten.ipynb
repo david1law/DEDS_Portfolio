{
 "cells": [
  {
   "cell_type": "code",
   "execution_count": 3,
   "metadata": {},
   "outputs": [
    {
     "name": "stdout",
     "output_type": "stream",
     "text": [
      "Input: [0 0] Predicted Output: [0.04952973]\n",
      "Input: [0 1] Predicted Output: [0.4980226]\n",
      "Input: [1 0] Predicted Output: [0.4980723]\n",
      "Input: [1 1] Predicted Output: [0.50035573]\n"
     ]
    }
   ],
   "source": [
    "import numpy as np\n",
    "\n",
    "class NeuralNetwork:\n",
    "    def __init__(self, input_nodes, hidden_nodes, output_nodes):\n",
    "        self.input_nodes = input_nodes\n",
    "        self.hidden_nodes = hidden_nodes\n",
    "        self.output_nodes = output_nodes\n",
    "        # Initialisatie van gewichten\n",
    "        self.input_to_hidden_weights = np.random.rand(input_nodes, hidden_nodes)\n",
    "        self.hidden_to_output_weights = np.random.rand(hidden_nodes, output_nodes)\n",
    "\n",
    "    def feedforward(self, inputs):\n",
    "        # Bereken de output van de verborgen laag\n",
    "        hidden_inputs = np.dot(inputs, self.input_to_hidden_weights)\n",
    "        hidden_outputs = self.sigmoid(hidden_inputs)\n",
    "        # Bereken de output van de output laag\n",
    "        final_inputs = np.dot(hidden_outputs, self.hidden_to_output_weights)\n",
    "        final_outputs = self.sigmoid(final_inputs)\n",
    "        return final_outputs\n",
    "\n",
    "    def sigmoid(self, x):\n",
    "        return 1 / (1 + np.exp(-x))\n",
    "\n",
    "    def train(self, inputs, targets):\n",
    "        learning_rate = 0.1  # Leerpercentage\n",
    "        for i in range(len(inputs)):\n",
    "            # Feedforward\n",
    "            hidden_inputs = np.dot(inputs[i], self.input_to_hidden_weights)\n",
    "            hidden_outputs = self.sigmoid(hidden_inputs)\n",
    "            final_inputs = np.dot(hidden_outputs, self.hidden_to_output_weights)\n",
    "            final_outputs = self.sigmoid(final_inputs)\n",
    "            # Bereken de fout\n",
    "            output_errors = targets[i] - final_outputs\n",
    "            # Pas de gewichten aan zonder backpropagation\n",
    "            self.input_to_hidden_weights += learning_rate * np.outer(inputs[i], np.dot(output_errors, self.hidden_to_output_weights.T))\n",
    "            self.hidden_to_output_weights += learning_rate * np.outer(hidden_outputs, output_errors)\n",
    "\n",
    "# Voorbeeld van training data\n",
    "inputs = np.array([[0, 0], [0, 1], [1, 0], [1, 1]])\n",
    "targets = np.array([[0], [1], [1], [0]])\n",
    "\n",
    "# Maak het neurale netwerk\n",
    "nn = NeuralNetwork(input_nodes=2, hidden_nodes=3, output_nodes=1)\n",
    "\n",
    "# Train het neurale netwerk\n",
    "for epoch in range(10000):\n",
    "    nn.train(inputs, targets)\n",
    "\n",
    "# Test het getrainde netwerk\n",
    "for i in range(len(inputs)):\n",
    "    output = nn.feedforward(inputs[i])\n",
    "    print(\"Input:\", inputs[i], \"Predicted Output:\", output)\n"
   ]
  }
 ],
 "metadata": {
  "kernelspec": {
   "display_name": "Python 3",
   "language": "python",
   "name": "python3"
  },
  "language_info": {
   "codemirror_mode": {
    "name": "ipython",
    "version": 3
   },
   "file_extension": ".py",
   "mimetype": "text/x-python",
   "name": "python",
   "nbconvert_exporter": "python",
   "pygments_lexer": "ipython3",
   "version": "3.12.2"
  }
 },
 "nbformat": 4,
 "nbformat_minor": 2
}
