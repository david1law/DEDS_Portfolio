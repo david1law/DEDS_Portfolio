using System;

class NeuralNetwork
{
    private int inputNodes = 4;
    private int hiddenNodes = 3; // Je kunt het aantal hidden nodes aanpassen
    private int outputNodes = 1;

    private double[,] inputToHiddenWeights;
    private double[,] hiddenToOutputWeights;

    public NeuralNetwork()
    {
        // Initialize weights
        inputToHiddenWeights = InitializeWeights(inputNodes, hiddenNodes);
        hiddenToOutputWeights = InitializeWeights(hiddenNodes, outputNodes);
    }

    private double[,] InitializeWeights(int rows, int cols)
    {
        Random rand = new Random();
        double[,] weights = new double[rows, cols];
        for (int i = 0; i < rows; i++)
        {
            for (int j = 0; j < cols; j++)
            {
                weights[i, j] = rand.NextDouble() * 2 - 1; // Random initial weights between -1 and 1
            }
        }
        return weights;
    }

    public double[,] FeedForward(double[] input)
    {
        // Calculate hidden layer output
        double[] hiddenOutputs = new double[hiddenNodes];
        for (int i = 0; i < hiddenNodes; i++)
        {
            double sum = 0;
            for (int j = 0; j < inputNodes; j++)
            {
                sum += input[j] * inputToHiddenWeights[j, i];
            }
            hiddenOutputs[i] = Math.Tanh(sum); // Using tanh activation function
        }

        // Calculate output
        double[] output = new double[outputNodes];
        for (int i = 0; i < outputNodes; i++)
        {
            double sum = 0;
            for (int j = 0; j < hiddenNodes; j++)
            {
                sum += hiddenOutputs[j] * hiddenToOutputWeights[j, i];
            }
            output[i] = Math.Tanh(sum); // Using tanh activation function
        }

        double[,] result = new double[1, outputNodes];
        for (int i = 0; i < outputNodes; i++)
        {
            result[0, i] = output[i];
        }

        return result;
    }
}
