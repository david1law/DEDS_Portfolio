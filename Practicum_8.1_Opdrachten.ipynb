{
 "cells": [
  {
   "cell_type": "code",
   "execution_count": null,
   "metadata": {},
   "outputs": [],
   "source": [
    "import pandas as pd\n",
    "import sqlite3 as s3\n",
    "from sklearn.model_selection import train_test_split\n",
    "from sklearn import linear_model\n",
    "from sklearn.linear_model import LinearRegression\n",
    "from sklearn.metrics import mean_squared_error, mean_absolute_error\n",
    "import matplotlib.pyplot as plt\n",
    "import warnings\n",
    "warnings.simplefilter('ignore')\n",
    "\n",
    "go_sales = s3.connect('go_sales.sqlite')\n",
    "\n",
    "order_details = pd.read_sql_query('SELECT * FROM order_details', go_sales)\n",
    "order_header = pd.read_sql_query('SELECT * FROM order_header', go_sales)"
   ]
  },
  {
   "cell_type": "code",
   "execution_count": null,
   "metadata": {},
   "outputs": [],
   "source": [
    "merged = pd.merge(order_details, order_header, left_on='ORDER_NUMBER', how='inner', right_on='ORDER_NUMBER')\n",
    "df = merged.loc[:, ['PRODUCT_NUMBER', 'QUANTITY', 'ORDER_DATE']]\n",
    "\n",
    "df['ORDER_DATE'] = pd.to_datetime(df['ORDER_DATE'])\n",
    "df['MONTH'] = df['ORDER_DATE'].dt.month\n",
    "df['YEAR'] = df['ORDER_DATE'].dt.year\n",
    "df = df.drop('ORDER_DATE', axis=1)\n",
    "sales_per_month = df.groupby(['YEAR', 'MONTH'])['QUANTITY'].sum().reset_index()\n",
    "pd.DataFrame(sales_per_month)"
   ]
  },
  {
   "cell_type": "code",
   "execution_count": null,
   "metadata": {},
   "outputs": [],
   "source": [
    "x = sales_per_month.drop('QUANTITY', axis=1)\n",
    "y = sales_per_month['QUANTITY']\n",
    "\n",
    "x_train, x_test, y_train, y_test = train_test_split(x, y, test_size=0.15, random_state=42)\n",
    "reg_model = LinearRegression().fit(x_train, y_train)\n",
    "\n",
    "year_2023 = pd.DataFrame({'YEAR': [2023] * 12, 'MONTH': range(1, 13)})\n",
    "\n",
    "predicted_quantities_2023 = reg_model.predict(year_2023)\n",
    "prediction_2023_df = pd.DataFrame({'Year': year_2023['YEAR'], 'Month': year_2023['MONTH'], 'Predicted Sales': predicted_quantities_2023})\n",
    "prediction_2023_df['Predicted Sales'] = prediction_2023_df['Predicted Sales'].astype(int)\n",
    "\n",
    "prediction_2023_df"
   ]
  },
  {
   "cell_type": "code",
   "execution_count": null,
   "metadata": {},
   "outputs": [],
   "source": [
    "int(prediction_2023_df['Predicted Sales'].sum())"
   ]
  }
 ],
 "metadata": {
  "kernelspec": {
   "display_name": "Python 3",
   "language": "python",
   "name": "python3"
  },
  "language_info": {
   "codemirror_mode": {
    "name": "ipython",
    "version": 3
   },
   "file_extension": ".py",
   "mimetype": "text/x-python",
   "name": "python",
   "nbconvert_exporter": "python",
   "pygments_lexer": "ipython3",
   "version": "3.12.2"
  }
 },
 "nbformat": 4,
 "nbformat_minor": 2
}
