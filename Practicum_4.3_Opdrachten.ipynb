{
 "cells": [
  {
   "cell_type": "markdown",
   "metadata": {},
   "source": [
    "## Setup"
   ]
  },
  {
   "cell_type": "code",
   "execution_count": 21,
   "metadata": {},
   "outputs": [],
   "source": [
    "import pandas as pd\n",
    "import sqlite3 as s3\n",
    "import pyodbc\n",
    "import warnings\n",
    "warnings.simplefilter('ignore')\n",
    "\n",
    "DB = {'servername': 'NOAH\\SQLEXPRESS01',\n",
    "      'database': '4.3 db'}\n",
    "\n",
    "export_conn = pyodbc.connect('DRIVER={SQL SERVER};SERVER=' + DB['servername'] + \n",
    "                            ';DATABASE=' + DB['database'] + ';Trusted_Connection=yes')\n",
    "export_cursor = export_conn.cursor()\n",
    "export_cursor\n",
    "\n",
    "go_sales = s3.connect('go_sales.sqlite')\n",
    "go_staff = s3.connect('go_staff.sqlite')\n",
    "go_crm = s3.connect('go_crm.sqlite')\n",
    "\n",
    "product = pd.read_sql_query('SELECT * FROM product', go_sales)\n",
    "product_type = pd.read_sql_query('SELECT * FROM product_type', go_sales)\n",
    "sales_staff = pd.read_sql_query('SELECT * FROM sales_staff', go_sales)\n",
    "sales_branch = pd.read_sql_query('SELECT * FROM sales_branch', go_sales)\n",
    "staff_manager = pd.read_sql_query('SELECT * FROM sales_staff', go_staff)\n",
    "order_method = pd.read_sql_query('SELECT * FROM order_method', go_sales)\n",
    "return_reason = pd.read_sql_query('SELECT * FROM return_reason', go_sales)\n",
    "retailer_contact = pd.read_sql_query('SELECT * FROM retailer_contact', go_crm)\n",
    "course = pd.read_sql_query('SELECT * FROM course', go_staff)\n",
    "satisfaction_type = pd.read_sql_query('SELECT * FROM satisfaction_type', go_staff)"
   ]
  },
  {
   "cell_type": "markdown",
   "metadata": {},
   "source": [
    "### PRODUCT"
   ]
  },
  {
   "cell_type": "code",
   "execution_count": 35,
   "metadata": {},
   "outputs": [
    {
     "name": "stdout",
     "output_type": "stream",
     "text": [
      "INSERT INTO Product VALUES (1, 'TrailChef Water Bag', 'Lightweight, collapsible bag to carry liquids easily.  Wide mouth for easy filling.  Holds 10 liters.', '15-2-2011', 1, '4', '.33', 'P01CE1CG1.jpg', 'EN')\n",
      "INSERT INTO Product VALUES (10, 'TrailChef Utensils', 'Spoon, fork and knife set made of a light yet strong metal alloy.  Carrying pouch included.', '15-2-2011', 1, '10', '.4', 'P10CE1CG1.jpg', 'EN')\n",
      "INSERT INTO Product VALUES (100, 'Insect Bite Relief', 'The Insect Bite Relief helps the itching and swelling caused by most insect bites.', '15-2-2011', 17, '3', '.5', 'P100OP4FA17.jpg', 'EN')\n",
      "INSERT INTO Product VALUES (101, 'Hailstorm Steel Irons', 'Iron is 17-4 stainless steel.  Shafts are graphite with a frequency matched throughout the set. Includes 3 iron to Pitching Wedge.', '15-12-2019', 18, '305.54', '.43', 'P101GE5IR18.jpg', 'EN')\n",
      "INSERT INTO Product VALUES (102, 'Hailstorm Titanium Irons', 'Made entirely of pure titanium. The ultimate in golf club technology. Lightweight graphite shaft and light overall weight. Includes 3 iron to Pitching Wedge.', '10-12-2019', 18, '380.95', '.51', 'P102GE5IR18.jpg', 'EN')\n",
      "INSERT INTO Product VALUES (103, 'Lady Hailstorm Steel Irons', 'Iron is 17-4 stainless steel.  Shafts are graphite with a frequency matched throughout the set. Includes 3 iron to Pitching Wedge.', '10-12-2019', 18, '277.76', '.43', 'P101GE5IR18.jpg', 'EN')\n",
      "INSERT INTO Product VALUES (104, 'Lady Hailstorm Titanium Irons', 'Made entirely of pure titanium. A wider sole and loft system to help you get the ball airborne with less effort. Includes 3 iron to Pitching Wedge.', '18-12-2019', 18, '333.32', '.51', 'P102GE5IR18.jpg', 'EN')\n",
      "INSERT INTO Product VALUES (105, 'Hailstorm Titanium Woods Set', 'Crafted of 6-4 titanium which is 40% lighter and 20% stronger than 17-4 steel.  Includes 3 Wood, 5 Wood and 12 degree driver.', '27-12-2019', 19, '555.9', '.55', 'P105GE5WD19.jpg', 'EN')\n",
      "INSERT INTO Product VALUES (106, 'Hailstorm Steel Woods Set', 'These steel woods are manufactured to exact tolerances to ensure maximum transfer of energy between the club head and the golf ball. Includes 3 Wood, 5 Wood and 12 degree driver.', '5-12-2019', 19, '536.09', '.43', 'P106GE5WD19.jpg', 'EN')\n",
      "INSERT INTO Product VALUES (107, 'Lady Hailstorm Titanium Woods Set', 'Crafted of 6-4 titanium which is 40% lighter and 20% stronger than 17-4 steel. Includes 3 Wood, 5 Wood and 12 degree driver.', '13-1-2020', 19, '509.07', '.55', 'P105GE5WD19.jpg', 'EN')\n",
      "INSERT INTO Product VALUES (108, 'Lady Hailstorm Steel Woods Set', 'These steel woods are manufactured to exact tolerances to ensure maximum transfer of energy between the club head and the golf ball. Includes 3 Wood, 5 Wood and 12 degree driver.', '27-12-2019', 19, '472.22', '.43', 'P106GE5WD19.jpg', 'EN')\n",
      "INSERT INTO Product VALUES (109, 'Course Pro Putter', 'High quality putter is cast  from a soft yellow brass alloy to give the putter its uniquely soft feel at impact.', '10-12-2019', 20, '35', '.43', 'P109GE5PT20.jpg', 'EN')\n",
      "INSERT INTO Product VALUES (11, 'Star Lite', 'A perfect tent for biking and hiking trips, compact and very light.  Features three shock cord aluminum poles, and three large mesh windows.  Packed size: 15 x 40 cm. Weight: 0.5 kg.', '15-2-2011', 2, '250', '.28', 'P11CE1TN2.jpg', 'EN')\n",
      "INSERT INTO Product VALUES (110, 'Blue Steel Putter', 'This premium putter has copper mixed with lightweight aluminum for a smooth touch.', '10-12-2019', 20, '60', '.5', 'P110GE5PT20.jpg', 'EN')\n",
      "INSERT INTO Product VALUES (111, 'Blue Steel Max Putter', 'Putter head is composed from a single piece of the softest carbon steel for optimum feel.', '15-12-2019', 20, '81.8', '.55', 'P111GE5PT20.jpg', 'EN')\n",
      "INSERT INTO Product VALUES (112, 'Course Pro Golf and Tee Set', 'Set includes two premium golf ball and an assortment of wooden golf tees.', '10-1-2020', 21, '6', '.33', 'P112GE5GA21.jpg', 'EN')\n",
      "INSERT INTO Product VALUES (113, 'Course Pro Umbrella', 'Large red and white patterned golf umbrella.', '15-1-2020', 21, '6', '.5', 'P113GE5GA21.jpg', 'EN')\n",
      "INSERT INTO Product VALUES (114, 'Course Pro Golf Bag', 'High quality golf bag that includes carrying strap and large front pocket.', '15-12-2019', 21, '80', '.6', 'P114GE5GA21.jpg', 'EN')\n",
      "INSERT INTO Product VALUES (115, 'Course Pro Gloves', 'Durable nylon constructed gloves with stitched leather palm.', '27-12-2019', 21, '5', '.5', 'P115GE5GA21.jpg', 'EN')\n",
      "INSERT INTO Product VALUES (12, 'Star Dome', 'Four pole geodesic dome mountain tent that comfortably fits two to three people. 10 mm aluminum poles, mesh pole sleeves and taped seams.  Packed size: 22 x 63 cm. Weight: 4.8 kg.', '5-3-2013', 2, '473.07', '.23', 'P12CE1TN2.jpg', 'EN')\n",
      "INSERT INTO Product VALUES (13, 'Star Gazer 2', 'The Star Gazer 2 is the Great Outdoor's most versatile tent.  It is a large two-person tent that is both durable and light weight.  Packed size: 18 x 70 cm. Weight: 2.6 kg.', '15-2-2011', 2, '392.57', '.25', 'P13CE1TN2.jpg', 'EN')\n",
      "INSERT INTO Product VALUES (14, 'Star Gazer 3', 'The Star Gazer 3 features a water proof fly, mesh window and two doors for good ventilation.  Packed size: 20 x 70 cm. Weight: 5.3 kg.', '5-3-2013', 2, '476', '.2', 'P14CE1TN2.jpg', 'EN')\n",
      "INSERT INTO Product VALUES (15, 'Star Gazer 6', 'Massive cabin tent has ample room for six people. Mesh door and vent, T-style door.  Four side windows with storm flaps and three carry bags for tent and poles.', '5-3-2013', 2, '490', '.33', 'P15CE1TN2.jpg', 'EN')\n",
      "INSERT INTO Product VALUES (16, 'Star Peg', 'A single tent peg made of heavy-duty plated steel. Long enough even for hard, rocky ground. Length: 25 cm', '5-3-2013', 2, '1', '.5', 'P16CE1TN2.jpg', 'EN')\n",
      "INSERT INTO Product VALUES (17, 'Hibernator Lite', 'The Hibernator Lite is the perfect summer sleeping bag.  Light weight and comfortable down to 10░C.  The rectangular shape allows for easy pairing.  Weight with stuff sack: 1.0 kg.', '5-3-2013', 3, '60', '.28', 'P17CE1SB3.jpg', 'EN')\n",
      "INSERT INTO Product VALUES (18, 'Hibernator', 'The Hibernator is a three-season sleeping bag. The rectangular shape allows for easy pairing. Nylon shell material.  8 cm loft.  Comfortable down to 0░C.  One size fits up to 195 cm.', '15-2-2011', 3, '86', '.33', 'P17CE1SB3.jpg', 'EN')\n",
      "INSERT INTO Product VALUES (19, 'Hibernator Extreme', 'The Hibernator Extreme has all the features you need for four-season comfort.  Comfortable from -18░ to 9░C. Silk comfort lining, nylon shell. Fits users to 195 cm, stuff sack included.', '26-10-2016', 3, '150', '.37', 'P19CE1SB3.jpg', 'EN')\n",
      "INSERT INTO Product VALUES (2, 'TrailChef Canteen', 'Aluminum canteen. Rugged fleece-lined cover with belt clips, removable shoulder sling and small pocket for water purification tablets bottle. Holds 2 liters', '15-2-2011', 1, '9.22', '.23', 'P02CE1CG1.jpg', 'EN')\n",
      "INSERT INTO Product VALUES (20, 'Hibernator Self - Inflating Mat', 'Mattress is made of extra-thick foam. Mesh stuff sack included for easy carrying and storage. Repair kit included.', '5-3-2013', 3, '78.55', '.28', 'P20CE1SB3.jpg', 'EN')\n",
      "INSERT INTO Product VALUES (21, 'Hibernator Pad', 'Warms up quickly for snow camping comfort. The Hibernator Pad will resist cracking in temperatures as low as -30░C.', '15-2-2011', 3, '29.17', '.17', 'P21CE1SB3.jpg', 'EN')\n",
      "INSERT INTO Product VALUES (22, 'Hibernator Pillow', 'Camp pillow is filled with soft, luxurious fibers for maximum compactness and resiliency. Covered with soft cotton on one side and soft flannel on the other.', '15-2-2011', 3, '10', '.33', 'P22CE1SB3.jpg', 'EN')\n",
      "INSERT INTO Product VALUES (23, 'Hibernator Camp Cot', 'Aluminum frame camp cot that is lightweight and durable.  Size: 100 x 225 x 50 cm.  Weight: 7 kg.', '5-3-2013', 3, '65.33', '.33', 'P23CE1SB3.jpg', 'EN')\n",
      "INSERT INTO Product VALUES (24, 'Canyon Mule Climber Backpack', 'This pack is perfect for day trips and short hikes. Also great for students.  Separate front compartment, multi-layered interior organizer, 2 cm waist belt, 32,000 cu. cm.', '5-3-2013', 4, '62.5', '.17', 'P24CE1PK4.jpg', 'EN')\n",
      "INSERT INTO Product VALUES (25, 'Canyon Mule Weekender Backpack', 'A weekend getaway requires this pack.  It features a large front compression pocket, harness and waist belt, foam molded back panel, vinyl covered gear loops.  50,000 cu. cm.', '15-2-2011', 4, '166.66', '.33', 'P25CE1PK4.jpg', 'EN')\n",
      "INSERT INTO Product VALUES (26, 'Canyon Mule Journey Backpack', 'Set of three packs: handlebar pack, front pack and rear pack.  Designed to fit most mountain bikes.  Includes mounting hardware.  Total volume: 66,000 cu. cm.', '15-2-2011', 4, '213.33', '.33', 'P26CE1PK4.jpg', 'EN')\n",
      "INSERT INTO Product VALUES (27, 'Canyon Mule Extreme Backpack', 'Perfect for long back country trips, this pack features an expandable front pocket, includes a large sleeping bag compartment, padded shoulder harness, back and waist belt. 90,000 cu. cm.', '5-3-2013', 4, '238.88', '.43', 'P27CE1PK4.jpg', 'EN')\n",
      "INSERT INTO Product VALUES (28, 'Canyon Mule Cooler', 'A durable plastic cooler with hinged top, perfect for storing small items. Size:100 x 50 x 50 cm.', '15-2-2011', 4, '24', '.2', 'P28CE1PK4.jpg', 'EN')\n",
      "INSERT INTO Product VALUES (29, 'Canyon Mule Carryall', 'This pack has a large capacity, perfect for carrying all your camping gear.  Solid metal zipper and leather bottom.', '5-3-2013', 4, '41.18', '.4', 'P29CE1PK4.jpg', 'EN')\n",
      "INSERT INTO Product VALUES (3, 'TrailChef Kitchen Kit', 'Zippered nylon pouch contains cutlery for two, can opener, wire whisk, scrubber sponge, 2  60 ml squirt bottles, pancake turner and salt and pepper shaker.  Measures 10 x 22 x 5 cm.', '15-2-2011', 1, '15.93', '.28', 'P03CE1CG1.jpg', 'EN')\n",
      "INSERT INTO Product VALUES (30, 'Firefly Lite', 'Lightweight flashlight made from aircraft aluminum. Focusable beam, tail cap push button allows for single-handed operation. Uses two AA batteries, included.', '5-3-2013', 5, '6.75', '.5', 'P30CE1LT5.jpg', 'EN')\n",
      "INSERT INTO Product VALUES (31, 'Firefly Mapreader', 'Clip-on flashlight for map or book reading. Also comes with flexible fiber optic extension. Lightweight, uses only one AA battery, included.', '5-3-2013', 5, '7.5', '.5', 'P31CE1LT5.jpg', 'EN')\n",
      "INSERT INTO Product VALUES (32, 'Firefly 2', 'A high quality aluminum flashlight with Krypton bulb.  Uses two D batteries, included.', '15-2-2011', 5, '16.67', '.33', 'P32CE1LT5.jpg', 'EN')\n",
      "INSERT INTO Product VALUES (33, 'Firefly 4', 'Made of solid plastic construction, adjustable beam (flood to spot), Krypton bulb.  Uses four D batteries, included.', '5-3-2013', 5, '18', '.33', 'P33CE1LT5.jpg', 'EN')\n",
      "INSERT INTO Product VALUES (34, 'Firefly Extreme', 'The Firefly Extreme is under 15 cm long yet produces 7,000 candlepower using two lithium batteries and a Xenon bulb. Shock and water resistant. Weight: 135 g.', '26-10-2016', 5, '28.12', '.37', 'P34CE1LT5.jpg', 'EN')\n",
      "INSERT INTO Product VALUES (35, 'Firefly Multi-light', 'This light can be used as either a flashlight or as a lamp. Uses two C batteries, included.  Burn time 7-8 hours. Water-resistant.', '26-10-2016', 5, '17.78', '.25', 'P35CE1LT5.jpg', 'EN')\n",
      "INSERT INTO Product VALUES (36, 'EverGlow Single', 'Light output approximates a 100 W bulb. Single mantle regulated. Porcelain dome. Uses 0.5 liter  propane cylinder (not included).', '15-2-2011', 5, '18.05', '.4', 'P36CE1LT5.jpg', 'EN')\n",
      "INSERT INTO Product VALUES (37, 'EverGlow Double', 'Light output approximates a 175 W bulb. Double mantle regulated. Porcelain dome. Uses 0.5 liter propane cylinder (not included).', '5-3-2013', 5, '28.75', '.37', 'P37CE1LT5.jpg', 'EN')\n",
      "INSERT INTO Product VALUES (38, 'EverGlow Kerosene', 'One of the most dependable sources of light in an emergency, this lantern is always ready and doesn't need to be recharged. Cotton wick. Height: 30 cm.', '5-3-2013', 5, '20', '.33', 'P38CE1LT5.jpg', 'EN')\n",
      "INSERT INTO Product VALUES (39, 'EverGlow Butane', 'Adjustable brightness control with auto ignition. Safely stores in its own protective case.  Approximate burn time 5 hours on one 0.25 liter butane canister, included.', '5-3-2013', 5, '40.63', '.37', 'P39CE1LT5.jpg', 'EN')\n",
      "INSERT INTO Product VALUES (4, 'TrailChef Cup', 'Tin cup. Holds 0.4 liters. Weight: 60 g', '15-2-2011', 1, '5', '.28', 'P04CE1CG1.jpg', 'EN')\n",
      "INSERT INTO Product VALUES (40, 'EverGlow Lamp', 'Perfect for in your tent, this lamp comes with a 6V battery.  Complete with shade and hanging hook.', '15-2-2011', 5, '17.97', '.28', 'P40CE1LT5.jpg', 'EN')\n",
      "INSERT INTO Product VALUES (41, 'Flicker Lantern', 'Simple to use, just requires a candle to be inserted and lit.  Windproof, lasts for hours.', '10-1-2021', 5, '24.62', '.23', 'P41CE1LT5.jpg', 'EN')\n",
      "INSERT INTO Product VALUES (42, 'Husky Rope 50', '11 mm diameter standard rope. Length: 50 m.  Weight: 78 g per meter. Impact Force: 7.2 kN. Static Elongation: 7.8%. Number of UIAA Falls: 16.', '10-1-2021', 6, '106.66', '.33', 'P42ME2RP6.jpg', 'EN')\n",
      "INSERT INTO Product VALUES (43, 'Husky Rope 60', '11 mm diameter standard rope. Length: 60 m.  Weight: 78 g per meter. Impact Force: 7.2 kN. Static Elongation: 7.8%. Number of UIAA Falls: 16.', '10-1-2021', 6, '126.66', '.33', 'P42ME2RP6.jpg', 'EN')\n",
      "INSERT INTO Product VALUES (44, 'Husky Rope 100', '11 mm diameter standard rope. Length: 100 m.  Weight: 78 g per meter. Impact Force: 7.2 kN. Static Elongation: 7.8%. Number of UIAA Falls: 16.', '10-1-2021', 6, '231.11', '.33', 'P44ME2RP6.jpg', 'EN')\n",
      "INSERT INTO Product VALUES (45, 'Husky Rope 200', '11 mm diameter standard rope. Length: 200 m.  Weight: 78 g per meter. Impact Force: 7.2 kN. Static Elongation: 7.8%. Number of UIAA Falls: 16.', '10-1-2021', 6, '383.32', '.33', 'P44ME2RP6.jpg', 'EN')\n",
      "INSERT INTO Product VALUES (46, 'Granite Climbing Helmet', 'This UIAA approved helmet fits adults and kids, suitable for rock and alpine use.', '10-1-2021', 7, '52.86', '.28', 'P46ME2SY7.jpg', 'EN')\n",
      "INSERT INTO Product VALUES (47, 'Husky Harness', 'One size fits all due to extensive waist belt adjustment and fully adjustable leg loops.', '10-1-2021', 7, '44.83', '.31', 'P47ME2SY7.jpg', 'EN')\n",
      "INSERT INTO Product VALUES (48, 'Husky Harness Extreme', 'One size fits all. Top of the range fully adjustable technical harness. Ultra high strength belay loop rated in excess of 30kN. Rear haul loop rated to 10kN.', '10-1-2021', 7, '55', '.5', 'P47ME2SY7.jpg', 'EN')\n",
      "INSERT INTO Product VALUES (49, 'Granite Signal Mirror', 'Day or night signal mirror with gridded sighting hole.  6mm laminated glass. Soft carrying case included. Size: 8 x 13 cm. Weight: 400 g.', '10-1-2021', 7, '16.5', '.5', 'P49ME2SY7.jpg', 'EN')\n",
      "INSERT INTO Product VALUES (5, 'TrailChef Cook Set', 'All you will ever need on the trail.  Pot gripper and nylon carrying bag included.  1.5 and 2 liter pots with individual lids. Weight: 750 g.', '15-2-2011', 1, '34.97', '.3', 'P05CE1CG1.jpg', 'EN')\n",
      "INSERT INTO Product VALUES (50, 'Granite Carabiner', 'Made from 12 mm rod stock aluminum and a radius suitable for almost any rope size. Locks tight with almost any belay/rappel combination. Individually tested.', '10-1-2021', 8, '2', '.5', 'P50ME2CA8.jpg', 'EN')\n",
      "INSERT INTO Product VALUES (51, 'Granite Belay', 'The Granite Belay is an ingenious single rope belay device that uses carabiner movement to brake the rope.', '10-1-2021', 8, '35', '.5', 'P51ME2CA8.jpg', 'EN')\n",
      "INSERT INTO Product VALUES (52, 'Granite Pulley', 'Light, simple and strong, a great all purpose pulley.', '10-1-2021', 8, '19', '.5', 'P52ME2CA8.jpg', 'EN')\n",
      "INSERT INTO Product VALUES (53, 'Firefly Climbing Lamp', 'This climbing lamp is water-resistant. It comes with two bulbs, standard and halogen. Includes one 6V halogen bulb and one 6V standard bulb. Weight: 200g.', '10-1-2021', 8, '28.55', '.28', 'P53ME2CA8.jpg', 'EN')\n",
      "INSERT INTO Product VALUES (54, 'Firefly Charger', 'Power charger for the Firefly Climbing Lamp. The charger cannot overcharge the Firefly battery, so you can leave it in the charger without worrying.', '10-1-2021', 8, '35.33', '.33', 'P54ME2CA8.jpg', 'EN')\n",
      "INSERT INTO Product VALUES (55, 'Firefly Rechargeable Battery', 'Rechargeable battery pack for the Firefly Climbing Lamp. Each charge gives 3 hours of light with a halogen bulb and 9 hours with standard bulb. Battery may be recharged up to 1,000 times.', '10-1-2021', 8, '4', '.5', 'P55ME2CA8.jpg', 'EN')\n",
      "INSERT INTO Product VALUES (56, 'Granite Chalk Bag', 'Nylon web bag perfect for holding several sticks of chalk.', '10-1-2021', 8, '9', '.5', 'P56ME2CA8.jpg', 'EN')\n",
      "INSERT INTO Product VALUES (57, 'Granite Ice', 'A general purpose mountaineering axe for snow and glacier travel. Excellent mid-weight axe. Weight: 638 g', '10-1-2021', 9, '40', '.5', 'P57ME2TL9.jpg', 'EN')\n",
      "INSERT INTO Product VALUES (58, 'Granite Hammer', 'A solid hammer made with a solid hard wood handle and steel head.  Weight: 800g.', '10-1-2021', 9, '57.13', '.28', 'P58ME2TL9.jpg', 'EN')\n",
      "INSERT INTO Product VALUES (59, 'Granite Shovel', 'Shovel has removable aluminum handle and heat treated aluminum blade.', '10-1-2021', 9, '46.15', '.23', 'P59ME2TL9.jpg', 'EN')\n",
      "INSERT INTO Product VALUES (6, 'TrailChef Deluxe Cook Set', 'Cascade set features 1, 2, and 3 liter pots with individual lids that double as fry pans or plates. Pot gripper and nylon carrying bag included.  Weight: 1.4 kg.', '5-3-2013', 1, '85.11', '.28', 'P06CE1CG1.jpg', 'EN')\n",
      "INSERT INTO Product VALUES (60, 'Granite Grip', 'All-purpose stainless steel pliers. Sheath included. Length (closed) 12cm, (open) 16 cm. Weight: 200 g.', '10-1-2021', 9, '10', '.5', 'P60ME2TL9.jpg', 'EN')\n",
      "INSERT INTO Product VALUES (61, 'Granite Axe', 'Camping axe with clear coated wood handle.', '10-1-2021', 9, '20', '.5', 'P61ME2TL9.jpg', 'EN')\n",
      "INSERT INTO Product VALUES (62, 'Granite Extreme', 'The Edge Extreme is a collapsible plier-shaped gadget, three knife blades, file and scissors, perfect for the outdoors.  Carrying case included.', '10-1-2021', 9, '47.06', '.4', 'P62ME2TL9.jpg', 'EN')\n",
      "INSERT INTO Product VALUES (63, 'Mountain Man Analog', 'Padded leather strap, precision Swiss quartz movement, sweep second hand, 24-hour time ring, luminous hands and markers, hardened mineral crystal.', '15-2-2011', 10, '30', '.33', 'P63PA3WT10.jpg', 'EN')\n",
      "INSERT INTO Product VALUES (64, 'Mountain Man Digital', 'Tough rubber strap, digital face, hardened crystal, water-resistant to 50 meters.', '15-2-2011', 10, '20', '.5', 'P64PA3WT10.jpg', 'EN')\n",
      "INSERT INTO Product VALUES (65, 'Mountain Man Deluxe', 'Tough rubber strap, precision Swiss quartz movement, imbedded digital face, luminous hands and markers, hardened mineral crystal, start and stop buttons, water-resistant to 50 meters.', '5-3-2013', 10, '39', '.5', 'P65PA3WT10.jpg', 'EN')\n",
      "INSERT INTO Product VALUES (66, 'Mountain Man Combination', 'Combination watch, altimeter, compass and barometric gauge.  Heavy duty rubber strap,  hardened mineral crystal.', '5-3-2013', 10, '45', '.5', 'P66PA3WT10.jpg', 'EN')\n",
      "INSERT INTO Product VALUES (67, 'Mountain Man Extreme', 'Solid titanium case, crown, bezel.  Combination nylon and rubber strap. Analog representation on digital interface.  Backlit, hardened mineral crystal, water-resistant to 100 meters.', '26-10-2016', 10, '116.19', '.51', 'P67PA3WT10.jpg', 'EN')\n",
      "INSERT INTO Product VALUES (68, 'Polar Sun', 'The Polar Sun sunglasses have 3 mm thick lenses, which makes excellent protective eyewear for sport and safety.', '15-2-2011', 11, '46.15', '.23', 'P68PA3EW11.jpg', 'EN')\n",
      "INSERT INTO Product VALUES (69, 'Polar Ice', 'Polar Ice sunglasses have polarized lenses to combat glare from snow. Unbreakable nylon frame.', '15-2-2011', 11, '73.33', '.33', 'P69PA3EW11.jpg', 'EN')\n",
      "INSERT INTO Product VALUES (7, 'TrailChef Single Flame', 'A single burner stove with integral tank.  It features precise flame control so you will never have to settle for burnt camp food again.  Weight 624 g, fuel is white gas.', '15-2-2011', 1, '46.38', '.28', 'P07CE1CG1.jpg', 'EN')\n",
      "INSERT INTO Product VALUES (70, 'Polar Sports', 'Six base classic nylon composite frame sunglasses with wire core temples.', '5-3-2013', 11, '80', '.33', 'P70PA3EW11.jpg', 'EN')\n",
      "INSERT INTO Product VALUES (71, 'Polar Wave', 'Acrylex lenses in the Polar Wave sunglasses absorb up to 90% of visible light, 96% ultraviolet, and 82% infrared light. Unbreakable nylon frames.', '5-3-2013', 11, '60', '.33', 'P71PA3EW11.jpg', 'EN')\n",
      "INSERT INTO Product VALUES (72, 'Polar Extreme', 'Ideal for skiing and winter mountaineering. Frame is durable polyurethane with soft interior foam and adjustable woven elastic band providing an excellent fit. Weight: 139 g.', '26-10-2016', 11, '72.5', '.5', 'P72PA3EW11.jpg', 'EN')\n",
      "INSERT INTO Product VALUES (73, 'Single Edge', 'Single stainless steel blade folding knife. Length: (closed) 5 cm, (blade) 4.5 cm. Blade thickness 2 mm.  Weight: 90 g.', '15-2-2011', 12, '8.56', '.28', 'P73PA3KV12.jpg', 'EN')\n",
      "INSERT INTO Product VALUES (74, 'Double Edge', 'Double stainless steel blade folding knife. Length: (closed) 6 cm, (blades) 5.5 cm and 3 cm. Blade thickness: 2 mm. Weight: 110 g.', '15-2-2011', 12, '11.43', '.28', 'P74PA3KV12.jpg', 'EN')\n",
      "INSERT INTO Product VALUES (75, 'Edge Extreme', 'Multi-purpose pocketknife ruggedly constructed of stainless steel.  Includes 4 different blades, corkscrew, saw, scissors, pliers and more.', '26-10-2016', 12, '80', '.28', 'P75PA3KV12.jpg', 'EN')\n",
      "INSERT INTO Product VALUES (76, 'Bear Edge', 'Knife is 33 cm long with a 20 cm blade made of surgical stainless steel. The handle is laminated wood. The custom made sheath is black leather.', '15-2-2011', 12, '23.53', '.4', 'P76PA3KV12.jpg', 'EN')\n",
      "INSERT INTO Product VALUES (77, 'Bear Survival Edge', 'Features a 23 cm razor edge blade tempered from a special blend of stainless steel. The hollow handle has a compartment containing survival gear including a compass. Overall length: 36cm.', '26-10-2016', 12, '45', '.5', 'P77PA3KV12.jpg', 'EN')\n",
      "INSERT INTO Product VALUES (78, 'Seeker 35', 'This 7 x 35 model is economical and performs well optically. Fully coated lenses, compact and  lightweight. Rubber covered for secure and comfortable grip. Soft carrying case included.', '15-2-2011', 13, '79.19', '.2', 'P78PA3BN13.jpg', 'EN')\n",
      "INSERT INTO Product VALUES (79, 'Seeker 50', 'Rubber coated and ergonomically designed. The wide angle of view of 10 x 50 keeps more of your subject in view at high magnification. Soft carrying case included.', '15-2-2011', 13, '92.58', '.25', 'P78PA3BN13.jpg', 'EN')\n",
      "INSERT INTO Product VALUES (8, 'TrailChef Double Flame', 'The TrailChef Double Flame is a camp stove which attaches directly to fuel canisters. Features precise flame control and a built-in windscreen.  Weight is 850 g, fuel is propane.', '5-3-2013', 1, '75', '.41', 'P08CE1CG1.jpg', 'EN')\n",
      "INSERT INTO Product VALUES (80, 'Seeker Extreme', 'These ergonomic binoculars are light-weight and easy to hold.  Strong construction make them impervious to water, fog and thermal shocks. Soft carrying case included.', '5-3-2013', 13, '94.12', '.4', 'P80PA3BN13.jpg', 'EN')\n",
      "INSERT INTO Product VALUES (81, 'Seeker Mini', 'This 8 x 22 model is economical and performs well optically. Fully coated lenses, compact and  light-weight. Rubber covered for secure and comfortable grip. Soft carrying case included.', '5-3-2013', 13, '40', '.5', 'P81PA3BN13.jpg', 'EN')\n",
      "INSERT INTO Product VALUES (82, 'Glacier Basic', 'Traditional magnetic compass in a stainless steel casing.', '5-3-2013', 14, '20', '.33', 'P82PA3NV14.jpg', 'EN')\n",
      "INSERT INTO Product VALUES (83, 'Glacier Deluxe', 'Magnetic Compass has a large sighting mirror with v-notch allowing for quick acquisition and accurate bearings to distant landmarks.', '5-3-2013', 14, '56.25', '.37', 'P83PA3NV14.jpg', 'EN')\n",
      "INSERT INTO Product VALUES (84, 'Glacier GPS', 'Global Positioning System that is small, lightweight, and rugged. Incredibly easy to use, dedicated operation keys, and three user-friendly navigation screens.', '5-3-2013', 14, '78.55', '.28', 'P84PA3NV14.jpg', 'EN')\n",
      "INSERT INTO Product VALUES (85, 'Glacier GPS Extreme', 'Hand held GPS receiver with color display. Incredibly easy to use, three user-friendly navigation screens, and saves two routes. Up to 20 hours of battery life just on two AA batteries.', '12-6-2015', 14, '176.47', '.4', 'P85PA3NV14.jpg', 'EN')\n",
      "INSERT INTO Product VALUES (86, 'BugShield Natural', 'Contains no chemicals. Repels mosquitoes, black flies, biting midges, and fleas effectively. Safe for children and environmentally sound.  Active ingredient: Citronella 10%. 100 ml.', '15-2-2011', 15, '2', '.67', 'P86OP4IR15.jpg', 'EN')\n",
      "INSERT INTO Product VALUES (87, 'BugShield Spray', 'Repels black flies, ticks, mosquitoes, chiggers, deer flies and stable flies. Protects against Lyme ticks. Contains 23.75% active ingredient. Clear, odorless formula. 100 ml.', '15-2-2011', 15, '2', '.67', 'P86OP4IR15.jpg', 'EN')\n",
      "INSERT INTO Product VALUES (88, 'BugShield Lotion Lite', 'Repels black flies, ticks, mosquitoes, chiggers, deer flies and stable flies. Contains 8.75% active ingredient for a lighter application. Odorless cream. 100 ml.', '15-2-2011', 15, '2', '.7', 'P86OP4IR15.jpg', 'EN')\n",
      "INSERT INTO Product VALUES (89, 'BugShield Lotion', 'Repels black flies, ticks, mosquitoes, chiggers, deer flies and stable flies. Protects against Lyme ticks. Contains 23.75% active ingredient. Odorless cream. 100 ml.', '15-2-2011', 15, '2.5', '.63', 'P86OP4IR15.jpg', 'EN')\n",
      "INSERT INTO Product VALUES (9, 'TrailChef Kettle', 'This old-fashioned style kettle is made of durable enamel.  Weight: 350g, Holds 1.5 liters.', '5-3-2013', 1, '9', '.25', 'P09CE1CG1.jpg', 'EN')\n",
      "INSERT INTO Product VALUES (90, 'BugShield Extreme', 'Highest amount of the active ingredient, 38%, for up to 10 hours of protection. Repels black flies, ticks, mosquitoes, deer flies and stable flies. Clear, odorless formula. 100 ml.', '15-2-2011', 15, '2.5', '.63', 'P86OP4IR15.jpg', 'EN')\n",
      "INSERT INTO Product VALUES (91, 'Sun Blocker', 'Sun Blocker is waterproof and lasts up to eight hours. It contains natural skin conditioners and moisturizers, as well as titanium dioxide for the ultimate level of protection.', '15-2-2011', 16, '2', '.6', 'P91OP4SS16.jpg', 'EN')\n",
      "INSERT INTO Product VALUES (92, 'Sun Shelter Stick', 'Easy to apply to your nose, lips, ears and other sensitive areas. Provides long-lasting protection from sun, wind and water to keep your skin soft and moist.', '15-2-2011', 16, '2', '.6', 'P91OP4SS16.jpg', 'EN')\n",
      "INSERT INTO Product VALUES (93, 'Sun Shelter 15', 'SPF 15 protects against all harmful rays.', '15-2-2011', 16, '2', '.6', 'P91OP4SS16.jpg', 'EN')\n",
      "INSERT INTO Product VALUES (94, 'Sun Shelter 30', 'SPF 30 provides maximum protection and is long-lasting.', '15-2-2011', 16, '2', '.6', 'P91OP4SS16.jpg', 'EN')\n",
      "INSERT INTO Product VALUES (95, 'Sun Shield', 'PABA free sunscreen, SPF 30, poison oak and ivy protectant, waterproof, insect repellent against fleas, mosquitoes, deer ticks, gnats.  Moisturizer contains Vitamin E and Lanolin.', '15-2-2011', 16, '3', '.5', 'P91OP4SS16.jpg', 'EN')\n",
      "INSERT INTO Product VALUES (96, 'Compact Relief Kit', 'A personal first aid kit is recommended for every outdoor hiker or camper. Contains basic wound management, advanced infectious control, and more. Size: 17 x 10 x 7 cm. Weight: 0.3 kg.', '15-2-2011', 17, '16.43', '.28', 'P96OP4FA17.jpg', 'EN')\n",
      "INSERT INTO Product VALUES (97, 'Deluxe Family Relief Kit', 'A complete medical kit suitable for families with children.  Contains cough syrup, oral rehydration salts, advanced wound management, and more.  Size: 22 x 12 x 7 cm. Weight: 0.6 kg.', '5-3-2013', 17, '25', '.28', 'P96OP4FA17.jpg', 'EN')\n",
      "INSERT INTO Product VALUES (98, 'Calamine Relief', 'Use the Calamine Relief for allergic skin reactions, helps combat itching and swelling.', '15-2-2011', 17, '3', '.5', 'P98OP4FA17.jpg', 'EN')\n",
      "INSERT INTO Product VALUES (99, 'Aloe Relief', 'Perfect for minor burns and sunburn, the aloe vera provides quick relief.', '15-2-2011', 17, '2', '.6', 'P99OP4FA17.jpg', 'EN')\n"
     ]
    }
   ],
   "source": [
    "merged = pd.merge(product, product_type, left_on='PRODUCT_TYPE_CODE', how='inner', right_on='PRODUCT_TYPE_CODE')\n",
    "new_product = pd.DataFrame(merged[['PRODUCT_NUMBER', 'PRODUCT_NAME', 'DESCRIPTION', 'INTRODUCTION_DATE', 'PRODUCT_TYPE_CODE', 'PRODUCTION_COST', 'MARGIN', 'PRODUCT_IMAGE', 'LANGUAGE']])\n",
    "new_product\n",
    "\n",
    "for index, row in new_product.iterrows():\n",
    "    try:\n",
    "        query = f\"INSERT INTO Product VALUES ({row['PRODUCT_NUMBER']}, '{row['PRODUCT_NAME']}', '{row['DESCRIPTION']}', '{row['INTRODUCTION_DATE']}', '{row['PRODUCT_TYPE_CODE']}', '{row['PRODUCTION_COST']}', '{row['MARGIN']}', '{row['PRODUCT_IMAGE']}', '{row['LANGUAGE']}')\"\n",
    "        export_cursor.execute(query)\n",
    "    except pyodbc.Error:\n",
    "        print(query)\n",
    "\n",
    "export_conn.commit()"
   ]
  },
  {
   "cell_type": "markdown",
   "metadata": {},
   "source": [
    "### SALES_STAFF"
   ]
  },
  {
   "cell_type": "code",
   "execution_count": 23,
   "metadata": {},
   "outputs": [
    {
     "name": "stdout",
     "output_type": "stream",
     "text": [
      "INSERT INTO Sales_staff VALUES (100, '+358(0)17 - 433 127', '+358(0)17 - 433 129', 'TSavolainen@grtd123.com', 'Tuomas', 'Savolainen', 'Level 2 Sales Representative', '825', '23-Jul-1998 12:00:00 AM', '31', '18')\n",
      "INSERT INTO Sales_staff VALUES (101, '82-2-778-6587', '82-2-778-6586', 'CKim@grtd123.com', 'Chang-ho', 'Kim', 'Level 2 Sales Representative', '1228', '15-Dec-1998 12:00:00 AM', '32', '87')\n",
      "INSERT INTO Sales_staff VALUES (102, '82-2-778-6587', '82-2-778-6586', 'JChoi@grtd123.com', 'Jung-ho', 'Choi', 'Level 3 Sales Representative', '2641', '27-Nov-1998 12:00:00 AM', '32', '87')\n",
      "INSERT INTO Sales_staff VALUES (103, '886-2-2975-1988', '886-2-2989-4978', 'KKwao@grtd123.com', 'Kwei-Ping', 'Kao', 'Level 2 Sales Representative', '1541', '07-Oct-1998 12:00:00 AM', '33', '87')\n",
      "INSERT INTO Sales_staff VALUES (104, '886-2-2975-1988', '886-2-2989-4978', 'CFon@grtd123.com', 'Chin-Tsai', 'Fang', 'Level 3 Sales Representative', '2311', '08-May-1996 12:00:00 AM', '33', '87')\n",
      "INSERT INTO Sales_staff VALUES (105, '86-21-6790-5612', '86-21-6790-5612', 'XWang@grtd123.com', 'Xiangyong', 'Wang', 'Level 2 Sales Representative', '334', '07-May-1998 12:00:00 AM', '34', '87')\n",
      "INSERT INTO Sales_staff VALUES (106, '86-21-6790-5612', '86-21-6790-5612', 'FMeng@grtd123.com', 'Fei', 'Meng', 'Level 3 Sales Representative', '365', '25-Mar-1998 12:00:00 AM', '34', '87')\n",
      "INSERT INTO Sales_staff VALUES (107, '+(44) 181 2033144', '+(44) 181 5030282', 'WTaylor@grtd123.com', 'Walter', 'Taylor', 'Branch Manager', '3547', '09-Jun-1995 12:00:00 AM', '35', '18')\n",
      "INSERT INTO Sales_staff VALUES (108, '+(44) 181 2033144', '+(44) 181 5030282', 'PTamrine@grtd123.com', 'Penelope', 'Tamrine', 'General Manager', '3542', '18-Dec-1998 12:00:00 AM', '35', '108')\n",
      "INSERT INTO Sales_staff VALUES (109, '+(44) 181 2033144', '+(44) 181 5030282', 'HWilloughby@grtd123.com', 'Humphrey', 'Willoughby', 'Level 2 Sales Representative', '3544', '12-Jun-1998 12:00:00 AM', '35', '107')\n",
      "INSERT INTO Sales_staff VALUES (110, '+(44) 181 2033144', '+(44) 181 5030282', 'JHythe@grtd123.com', 'James', 'Ross-Hythe', 'Level 3 Sales Representative', '3621', '12-Sep-1997 12:00:00 AM', '35', '107')\n",
      "INSERT INTO Sales_staff VALUES (111, '+(44) 121 3505267', '+(44) 121 3583843', 'PLinton@grtd123.com', 'Polly', 'Linton', 'Branch Manager', '1216', '18-Jun-1996 12:00:00 AM', '36', '18')\n",
      "INSERT INTO Sales_staff VALUES (112, '+(44) 121 3505267', '+(44) 121 3583843', 'JLopez@grtd123.com', 'Josef', 'Lopez', 'Level 1 Sales Representative', '1287', '02-Jan-1999 12:00:00 AM', '36', '111')\n",
      "INSERT INTO Sales_staff VALUES (113, '+(44) 121 3505267', '+(44) 121 3583843', 'KReed@grtd123.com', 'Keith', 'Reed', 'Level 1 Sales Representative', '1198', '15-Jun-1999 12:00:00 AM', '36', '111')\n",
      "INSERT INTO Sales_staff VALUES (114, '+(44) 121 3505267', '+(44) 121 3583843', 'JWalker@grtd123.com', 'Janet', 'Walker', 'Level 3 Sales Representative', '1233', '27-Jul-1995 12:00:00 AM', '36', '111')\n",
      "INSERT INTO Sales_staff VALUES (115, '+(44) 121 3505267', '+(44) 121 3583843', 'EBrowne@grtd123.com', 'Emily', 'Browne', 'Level 2 Sales Representative', '1247', '20-Jul-1998 12:00:00 AM', '36', '111')\n",
      "INSERT INTO Sales_staff VALUES (116, '+(41) 17 12 13 14', '+(41) 17 12 13 20', 'SSommer@grtd123.com', 'Susanne', 'Sommer', 'Level 2 Sales Representative', '1115', '17-Jan-2000 12:00:00 AM', '37', '18')\n",
      "INSERT INTO Sales_staff VALUES (117, '+(41) 17 12 13 14', '+(41) 17 12 13 20', 'FJever@grtd123.com', 'Frank', 'Jever', 'Level 3 Sales Representative', '1154', '18-Oct-1999 12:00:00 AM', '37', '18')\n",
      "INSERT INTO Sales_staff VALUES (118, '+(41) 17 12 13 14', '+(41) 17 12 13 20', 'GVertemati@grtd123.com', 'Gianni', 'Vertemati', 'Level 1 Sales Representative', '1254', '10-Feb-2000 12:00:00 AM', '37', '18')\n",
      "INSERT INTO Sales_staff VALUES (119, '+32 16 20.73.21', '+32 16 20.73.32', 'GGellens@grtd123.com', 'Gracy', 'Gellens', 'Branch Manager', '1349', '10-Sep-1999 12:00:00 AM', '38', '18')\n",
      "INSERT INTO Sales_staff VALUES (12, '+(49) 40 663 1990', '+(49) 40 663 4571', 'EWiesinger@grtd123.com', 'Elsbeth', 'Wiesinger', 'Level 2 Sales Representative', '1818', '27-Feb-1997 12:00:00 AM', '13', '14')\n",
      "INSERT INTO Sales_staff VALUES (120, '+32 16 20.73.21', '+32 16 20.73.32', 'GLaermans@grtd123.com', 'Giele', 'Laermans', 'Level 1 Sales Representative', '1340', '15-Nov-1999 12:00:00 AM', '38', '119')\n",
      "INSERT INTO Sales_staff VALUES (121, '+32 16 20.73.21', '+32 16 20.73.32', 'FDecree@grtd123.com', 'François', 'De Crée', 'Level 1 Sales Representative', '1642', '01-Dec-1999 12:00:00 AM', '38', '119')\n",
      "INSERT INTO Sales_staff VALUES (122, '+32 16 20.73.21', '+32 16 20.73.32', 'YLattrez@grtd123.com', 'Yvette', 'Lattrez', 'Level 3 Sales Representative', '1633', '09-Dec-1999 12:00:00 AM', '38', '119')\n",
      "INSERT INTO Sales_staff VALUES (123, '+(43) 13 79 56 32', '+(43) 13 79 56 33', 'WSeefelder@grtd123.com', 'Willi', 'Seefelder', 'Level 2 Sales Representative', '325', '28-Oct-1998 12:00:00 AM', '39', '18')\n",
      "INSERT INTO Sales_staff VALUES (124, '+(43) 13 79 56 32', '+(43) 13 79 56 33', 'SGruner@grtd123.com', 'Sabine', 'Grüner', 'Level 3 Sales Representative', '348', '18-Feb-1998 12:00:00 AM', '39', '18')\n",
      "INSERT INTO Sales_staff VALUES (13, '+(49) 40 663 1990', '+(49) 40 663 4571', 'EMorike@grtd123.com', 'Else', 'Mörike', 'Regional Manager', '1865', '02-Jun-1999 12:00:00 AM', '13', '108')\n",
      "INSERT INTO Sales_staff VALUES (14, '+(49) 40 663 1990', '+(49) 40 663 4571', 'FFuchs@grtd123.com', 'Frank', 'Fuchs', 'Branch Manager', '1847', '12-Jan-1997 12:00:00 AM', '13', '18')\n",
      "INSERT INTO Sales_staff VALUES (15, '+(49) 40 663 1990', '+(49) 40 663 4571', 'GErler@grtd123.com', 'Gunter', 'Erler', 'Level 2 Sales Representative', '1823', '05-Mar-1998 12:00:00 AM', '13', '14')\n",
      "INSERT INTO Sales_staff VALUES (16, '+(49) 89 882 3456', '+(49) 89 882 3455', 'BWinkler@grtd123.com', 'Björn', 'Winkler', 'Level 3 Sales Representative', '224', '03-Jul-1996 12:00:00 AM', '14', '17')\n",
      "INSERT INTO Sales_staff VALUES (17, '+(49) 89 882 3456', '+(49) 89 882 3455', 'FHirsch@grtd123.com', 'Fritz', 'Hirsch', 'Branch Manager', '225', '12-Sep-1996 12:00:00 AM', '14', '18')\n",
      "INSERT INTO Sales_staff VALUES (18, '+(49) 89 882 3456', '+(49) 89 882 3455', 'JKunze@grtd123.com', 'Jörg', 'Kunze', 'District Manager', '234', '07-Jan-2000 12:00:00 AM', '14', '13')\n",
      "INSERT INTO Sales_staff VALUES (19, '+33 1 68 94 52 20', '+33 1 68 94 56 60', 'SAllessori@grtd123.com', 'Silvano', 'Allessori', 'Level 2 Sales Representative', '317', '06-Dec-1998 12:00:00 AM', '7', '20')\n",
      "INSERT INTO Sales_staff VALUES (20, '+(39) 02 41 05 400', '+(39) 02 41 20 549', 'MIacobucci@grtd123.com', 'Maria', 'Iacobucci', 'Branch Manager', 'None', '18-Aug-1996 12:00:00 AM', '7', '18')\n",
      "INSERT INTO Sales_staff VALUES (21, '+(39) 02 79 53 780', '+(39) 02 79 53 477', 'ATorta@grtd123.com', 'Alessandra', 'Torta', 'Level 3 Sales Representative', 'None', '13-Feb-1997 12:00:00 AM', '7', '20')\n",
      "INSERT INTO Sales_staff VALUES (22, '+31 (0)20 692 93 94', '+31 (0)20 692 93 06', 'BVelasquez@grtd123.com', 'Belinda', 'Jansen-Velasquez', 'Level 1 Sales Representative', '187', '12-Feb-1999 12:00:00 AM', '9', '25')\n",
      "INSERT INTO Sales_staff VALUES (23, '+31 (0)20 692 93 94', '+31 (0)20 692 93 06', 'EShapiro@grtd123.com', 'Ellen', 'Shapiro', 'Level 2 Sales Representative', '179', '15-Jan-1999 12:00:00 AM', '9', '25')\n",
      "INSERT INTO Sales_staff VALUES (24, '+31 (0)20 692 93 94', '+31 (0)20 692 93 06', 'JHaverkamp@grtd123.com', 'Jan', 'Haverkamp', 'Level 2 Sales Representative', '163', '18-Jul-1998 12:00:00 AM', '9', '25')\n",
      "INSERT INTO Sales_staff VALUES (25, '+31 (0)20 692 93 94', '+31 (0)20 692 93 06', 'KKalkman@grtd123.com', 'Kick', 'Kalkman', 'Branch Manager', '197', '06-Sep-1995 12:00:00 AM', '9', '18')\n",
      "INSERT INTO Sales_staff VALUES (26, '+31 (0)20 692 93 94', '+31 (0)20 692 93 06', 'MLaponder@grtd123.com', 'Maria', 'Laponder', 'Level 3 Sales Representative', '144', '10-Oct-1995 12:00:00 AM', '9', '25')\n",
      "INSERT INTO Sales_staff VALUES (27, '+(46) 08 753 116', '+(46) 08 752 592', 'ANilsson@grtd123.com', 'Anders', 'Nilsson', 'Level 2 Sales Representative', '236', '14-Aug-1998 12:00:00 AM', '15', '30')\n",
      "INSERT INTO Sales_staff VALUES (28, '+(46) 08 753 116', '+(46) 08 752 592', 'BGradin@grtd123.com', 'Bengt', 'Gradin', 'Level 1 Sales Representative', '284', '13-Jan-1999 12:00:00 AM', '15', '30')\n",
      "INSERT INTO Sales_staff VALUES (29, '+(46) 08 753 116', '+(46) 08 752 592', 'IEngelbrektsson@grtd123.com', 'Irene', 'Engelbrektsson', 'Level 2 Sales Representative', '213', '18-Feb-1998 12:00:00 AM', '15', '30')\n",
      "INSERT INTO Sales_staff VALUES (30, '+(46) 08 753 116', '+(46) 08 752 592', 'KBergstrom@grtd123.com', 'Karin', 'Bergström', 'Branch Manager', '215', '27-Apr-1998 12:00:00 AM', '15', '18')\n",
      "INSERT INTO Sales_staff VALUES (4, '+33 1 68 94 52 20', '+33 1 68 94 56 60', 'DPage@grtd123.com', 'Denis', 'Pagé', 'Branch Manager', '325', '03-Nov-1996 12:00:00 AM', '6', '18')\n",
      "INSERT INTO Sales_staff VALUES (43, '1 (403) 232-5986', '1 (403) 232-5831', 'MVachon@grtd123.com', 'Martine', 'Vachon', 'Level 2 Sales Representative', '312', '18-Mar-1998 12:00:00 AM', '17', '45')\n",
      "INSERT INTO Sales_staff VALUES (44, '1 (403) 232-5986', '1 (403) 232-5831', 'HTownsend@grtd123.com', 'Harold', 'Townsend', 'Level 3 Sales Representative', '315', '08-Aug-1992 12:00:00 AM', '17', '45')\n",
      "INSERT INTO Sales_staff VALUES (45, '1 (403) 232-5986', '1 (403) 232-5831', 'SWhite@grtd123.com', 'Sally', 'White', 'Branch Manager', '317', '26-Mar-1992 12:00:00 AM', '17', '47')\n",
      "INSERT INTO Sales_staff VALUES (46, '1 (403) 232-5986', '1 (403) 232-5831', 'SRowland@grtd123.com', 'Sherry', 'Rowland', 'Level 2 Sales Representative', '325', '13-Feb-1997 12:00:00 AM', '17', '45')\n",
      "INSERT INTO Sales_staff VALUES (47, '1 (403) 232-5986', '1 (403) 232-5831', 'FBretton@grtd123.com', 'Frank', 'Bretton', 'District Manager', '301', '01-Mar-2000 12:00:00 AM', '17', '72')\n",
      "INSERT INTO Sales_staff VALUES (48, '1 (416) 493-5595', '1 (416) 496-9667', 'GSaintgermain@grtd123.com', 'Georges', 'Saint-Germain', 'Branch Manager', '1245', '27-Oct-1991 12:00:00 AM', '18', '47')\n",
      "INSERT INTO Sales_staff VALUES (49, '1 (416) 493-5595', '1 (416) 496-9667', 'CClaudel@grtd123.com', 'Carole', 'Claudel', 'Level 2 Sales Representative', '2378', '12-Aug-1994 12:00:00 AM', '18', '48')\n",
      "INSERT INTO Sales_staff VALUES (5, '+33 1 68 94 52 20', '+33 1 68 94 56 60', 'EMichel@grtd123.com', 'Élizabeth', 'Michel', 'Level 3 Sales Representative', '336', '08-Jun-1995 12:00:00 AM', '6', '4')\n",
      "INSERT INTO Sales_staff VALUES (50, '1 (416) 493-5595', '1 (416) 490-7420', 'DChow@grtd123.com', 'Donald', 'Chow', 'Level 3 Sales Representative', '6587', '14-Apr-1990 12:00:00 AM', '18', '48')\n",
      "INSERT INTO Sales_staff VALUES (51, '1 (416) 493-5595', '1 (416) 490-7420', 'SPierce@grtd123.com', 'Samantha', 'Pierce', 'Level 2 Sales Representative', '4589', '15-Mar-1998 12:00:00 AM', '18', '48')\n",
      "INSERT INTO Sales_staff VALUES (52, '1 (416) 493-5595', '1 (416) 496-9667', 'BPike@grtd123.com', 'Brendon', 'Pike', 'Level 1 Sales Representative', '2189', '20-Dec-1999 12:00:00 AM', '18', '48')\n",
      "INSERT INTO Sales_staff VALUES (53, '1 (617) 268-6754', '1 (617) 268-3464', 'ARodriguez@grtd123.com', 'Alex', 'Rodriguez', 'Branch Manager', '1334', '07-Feb-1992 12:00:00 AM', '19', '47')\n",
      "INSERT INTO Sales_staff VALUES (54, '1 (617) 268-6754', '1 (617) 268-3464', 'AWilcox@grtd123.com', 'Allisia', 'Wilcox', 'Level 2 Sales Representative', '1436', '12-Jul-1997 12:00:00 AM', '19', '53')\n",
      "INSERT INTO Sales_staff VALUES (55, '1 (617) 268-6754', '1 (617) 268-3464', 'PLavoie@grtd123.com', 'Pierre', 'Lavoie', 'Level 3 Sales Representative', '1447', '08-Oct-1994 12:00:00 AM', '19', '53')\n",
      "INSERT INTO Sales_staff VALUES (56, '1 (617) 268-6754', '1 (617) 268-3464', 'RCummings@grtd123.com', 'Rhonda', 'Cummings', 'Level 2 Sales Representative', '1384', '06-May-1996 12:00:00 AM', '19', '53')\n",
      "INSERT INTO Sales_staff VALUES (57, '1 (206) 292-0012', '1 (206) 292-3312', 'SFloyd@grtd123.com', 'Samantha', 'Floyd', 'Branch Manager', '331', '17-Jul-1995 12:00:00 AM', '20', '47')\n",
      "INSERT INTO Sales_staff VALUES (58, '1 (206) 292-0012', '1 (206) 292-3312', 'AMccormick@grtd123.com', 'Ashley', 'McCormick', 'Level 2 Sales Representative', '384', '15-Apr-1996 12:00:00 AM', '20', '57')\n",
      "INSERT INTO Sales_staff VALUES (59, '1 (206) 292-0012', '1 (206) 292-3312', 'ALastman@grtd123.com', 'Audrey', 'Lastman', 'Level 3 Sales Representative', '396', '15-Feb-1995 12:00:00 AM', '20', '57')\n",
      "INSERT INTO Sales_staff VALUES (6, '+33 1 68 94 52 20', '+33 1 68 94 56 60', 'EClermont@grtd123.com', 'Émile', 'Clermont', 'Level 1 Sales Representative', '378', '07-Apr-1998 12:00:00 AM', '6', '4')\n",
      "INSERT INTO Sales_staff VALUES (60, '1 (206) 292-0012', '1 (206) 292-3312', 'BScott@grtd123.com', 'Bart', 'Scott', 'Level 2 Sales Representative', '312', '28-Nov-1997 12:00:00 AM', '20', '57')\n",
      "INSERT INTO Sales_staff VALUES (61, '1 (310) 281-5722', '1 (310) 281-9087', 'JOlsen@grtd123.com', 'Julie', 'Olsen', 'Branch Manager', '2045', '18-Feb-1998 12:00:00 AM', '22', '71')\n",
      "INSERT INTO Sales_staff VALUES (62, '1 (310) 281-5722', '1 (310) 281-9087', 'KChambers@grtd123.com', 'Ken', 'Chambers', 'Level 2 Sales Representative', '2123', '03-Apr-1998 12:00:00 AM', '22', '61')\n",
      "INSERT INTO Sales_staff VALUES (63, '1 (310) 281-5722', '1 (310) 281-9087', 'CMichaels@grtd123.com', 'Chad', 'Michaels', 'Level 3 Sales Representative', '2178', '17-May-1996 12:00:00 AM', '22', '61')\n",
      "INSERT INTO Sales_staff VALUES (64, '1 (310) 281-5722', '1 (310) 281-9087', 'MHoffman@grtd123.com', 'Maureen', 'Hoffman', 'Level 2 Sales Representative', '2160', '22-Jul-1998 12:00:00 AM', '22', '61')\n",
      "INSERT INTO Sales_staff VALUES (65, '1 (305) 557-4810', '1 (305) 557-7650', 'CWright@grtd123.com', 'Corey', 'Wright', 'Branch Manager', '3490', '11-Oct-1995 12:00:00 AM', '21', '47')\n",
      "INSERT INTO Sales_staff VALUES (66, '1 (305) 557-4810', '1 (305) 557-7650', 'DFowler@grtd123.com', 'Dale', 'Fowler', 'Level 2 Sales Representative', '3652', '12-Feb-1998 12:00:00 AM', '21', '65')\n",
      "INSERT INTO Sales_staff VALUES (67, '1 (305) 557-4810', '1 (305) 557-7650', 'LJohnson@grtd123.com', 'Lowell', 'Johnson', 'Level 2 Sales Representative', '3335', '06-Mar-1997 12:00:00 AM', '21', '65')\n",
      "INSERT INTO Sales_staff VALUES (68, '1 (305) 557-4810', '1 (305) 557-7650', 'MLewiston@grtd123.com', 'Margaret', 'Lewiston', 'Level 2 Sales Representative', '3121', '18-Aug-1996 12:00:00 AM', '21', '65')\n",
      "INSERT INTO Sales_staff VALUES (69, '1 (617) 268-6754', '1 (617) 268-3464', 'ECarson@grtd123.com', 'Eric', 'Carson', 'Level 2 Sales Representative', '1387', '08-Nov-1996 12:00:00 AM', '19', '53')\n",
      "INSERT INTO Sales_staff VALUES (7, '+33 1 68 94 52 20', '+33 1 68 94 56 60', 'EJauvin@grtd123.com', 'Étienne', 'Jauvin', 'Level 2 Sales Representative', '398', '16-Aug-1997 12:00:00 AM', '6', '4')\n",
      "INSERT INTO Sales_staff VALUES (70, '1 (305) 557-4810', '1 (305) 557-7650', 'VCohen@grtd123.com', 'Valerie', 'Cohen', 'Level 2 Sales Representative', '3547', '23-Jul-1997 12:00:00 AM', '21', '65')\n",
      "INSERT INTO Sales_staff VALUES (71, '1 (617) 268-6754', '1 (617) 268-3464', 'EJohnson@grtd123.com', 'Estelle', 'Johnson', 'District Manager', '1399', '04-Dec-1998 12:00:00 AM', '19', '72')\n",
      "INSERT INTO Sales_staff VALUES (72, '1 (206) 292-0012', '1 (206) 292-3312', 'GBelding@grtd123.com', 'Greg', 'Belding', 'Regional Manager', '373', '04-Dec-1998 12:00:00 AM', '20', '108')\n",
      "INSERT INTO Sales_staff VALUES (73, '1 (310) 281-5722', '1 (310) 281-9087', 'HGermaine@grtd123.com', 'Harold', 'Germaine', 'Level 1 Sales Representative', '2088', '19-Nov-1998 12:00:00 AM', '22', '61')\n",
      "INSERT INTO Sales_staff VALUES (74, '1 (305) 557-4810', '1 (305) 557-7650', 'JThomas@grtd123.com', 'Janice', 'Thomas', 'Level 1 Sales Representative', '3207', '12-Jun-1998 12:00:00 AM', '21', '65')\n",
      "INSERT INTO Sales_staff VALUES (75, '+33 4 52 26 33 88', '+33 4 66 35 98 95', 'JBechard@grtd123.com', 'Julie', 'Béchard', 'Branch Manager', '1315', '03-Sep-1994 12:00:00 AM', '23', '18')\n",
      "INSERT INTO Sales_staff VALUES (76, '+33 4 52 26 33 88', '+33 4 66 35 98 95', 'FMartin@grtd123.com', 'Florence', 'Martin', 'Level 2 Sales Representative', '1318', '23-Aug-1997 12:00:00 AM', '23', '75')\n",
      "INSERT INTO Sales_staff VALUES (77, '+33 4 52 26 33 88', '+33 4 66 35 98 95', 'DTurpin@grtd123.com', 'Daniel', 'Turpin', 'Level 2 Sales Representative', '1316', '13-May-1998 12:00:00 AM', '23', '75')\n",
      "INSERT INTO Sales_staff VALUES (78, '+33 4 52 26 33 88', '+33 4 66 35 98 95', 'FSamson@grtd123.com', 'Frédéric', 'Samson', 'Level 3 Sales Representative', '1322', '21-Feb-1994 12:00:00 AM', '23', '75')\n",
      "INSERT INTO Sales_staff VALUES (79, '+(525) 549 6090', '+(52) 549 6088', 'LReyna@grtd123.com', 'Lucía', 'Reyna', 'Branch Manager', '452', '10-Mar-1997 12:00:00 AM', '24', '71')\n",
      "INSERT INTO Sales_staff VALUES (80, '+(525) 549 6090', '+(52) 549 6088', 'AOrozco@grtd123.com', 'Ana', 'Orozco', 'Level 2 Sales Representative', '449', '11-Oct-1997 12:00:00 AM', '24', '79')\n",
      "INSERT INTO Sales_staff VALUES (81, '+(525) 549 6090', '+(52) 549 6088', 'GRojas@grtd123.com', 'Gabriela', 'Rojas', 'Level 2 Sales Representative', '465', '19-Mar-1998 12:00:00 AM', '24', '79')\n",
      "INSERT INTO Sales_staff VALUES (83, '81-3-6259-6601', '81-3-6208-4445', 'MIseya@grtd123.com', 'Machiko', 'Iseya', 'Level 1 Sales Representative', '2236', '21-Feb-1999 12:00:00 AM', '25', '87')\n",
      "INSERT INTO Sales_staff VALUES (85, '81-3-6259-6601', '81-3-6208-4445', 'GImori@grtd123.com', 'Genzo', 'Imori', 'Level 3 Sales Representative', '2245', '05-Jan-1998 12:00:00 AM', '25', '87')\n",
      "INSERT INTO Sales_staff VALUES (87, '81-6-616-5656', '81-6-616-5657', 'KUragome@grtd123.com', 'Kazumi', 'Uragome', 'District Manager', '2156', '05-Nov-1998 12:00:00 AM', '26', '13')\n",
      "INSERT INTO Sales_staff VALUES (88, '81-6-616-5656', '81-6-616-5657', 'MKakui@grtd123.com', 'Masuzo', 'Kakui', 'Level 3 Sales Representative', '2155', '12-May-1998 12:00:00 AM', '26', '87')\n",
      "INSERT INTO Sales_staff VALUES (89, '+(61) 03 2982  4242', '+(61) 03 2982  4243', 'AWalter@grtd123.com', 'Alice', 'Walter', 'Branch Manager', '1845', '08-Sep-1999 12:00:00 AM', '28', '87')\n",
      "INSERT INTO Sales_staff VALUES (90, '+(61) 03 2982  4242', '+(61) 03 2982  4243', 'DSmythe@grtd123.com', 'Dave', 'Smythe', 'Level 1 Sales Representative', '1875', '10-Jan-2000 12:00:00 AM', '28', '89')\n",
      "INSERT INTO Sales_staff VALUES (91, '+(61) 03 2982  4242', '+(61) 03 2982  4243', 'DWard@grtd123.com', 'Donald', 'Ward', 'Level 2 Sales Representative', '1874', '29-Nov-1999 12:00:00 AM', '28', '89')\n",
      "INSERT INTO Sales_staff VALUES (92, '+(61) 03 2982  4242', '+(61) 03 2982  4243', 'JCartel@grtd123.com', 'Jake', 'Cartel', 'Level 2 Sales Representative', '1648', '15-Dec-1999 12:00:00 AM', '28', '89')\n",
      "INSERT INTO Sales_staff VALUES (93, '+(61) 03 2982  4242', '+(61) 03 2982  4243', 'JSinden@grtd123.com', 'John', 'Sinden', 'Level 3 Sales Representative', '1892', '30-Nov-1999 12:00:00 AM', '28', '89')\n",
      "INSERT INTO Sales_staff VALUES (94, '+35 94 322 3540', '+35 91 548 1637', 'YTorres@grtd123.com', 'Yolanda', 'Torres', 'Level 3 Sales Representative', '125', '29-Aug-1995 12:00:00 AM', '29', '18')\n",
      "INSERT INTO Sales_staff VALUES (95, '+35 94 322 3540', '+35 91 548 1637', 'TIglesias@grtd123.com', 'Tomás', 'Iglesias', 'Level 2 Sales Representative', '325', '19-Feb-1998 12:00:00 AM', '29', '18')\n",
      "INSERT INTO Sales_staff VALUES (96, '+55 (11) 344-4444', '+55 (11) 333-2223', 'BLopes@grtd123.com', 'Bayard', 'Lopes', 'Branch Manager', '3490', '12-Aug-1997 12:00:00 AM', '30', '71')\n",
      "INSERT INTO Sales_staff VALUES (97, '+55 (11) 344-4444', '+55 (11) 333-2223', 'VBarros@grtd123.com', 'Viviam', 'Barros', 'Level 3 Sales Representative', '3364', '10-Feb-2001 12:00:00 AM', '30', '96')\n",
      "INSERT INTO Sales_staff VALUES (98, '+55 (11) 344-4444', '+55 (11) 333-2223', 'EGuimaraes@grtd123.com', 'Eduardo', 'Guimarães', 'Level 2 Sales Representative', '1442', '14-Feb-1999 12:00:00 AM', '30', '96')\n",
      "INSERT INTO Sales_staff VALUES (99, '+358(0)17 - 433 127', '+358(0)17 - 433 129', 'HLindholm@grtd123.com', 'Helena', 'Lindholm', 'Level 3 Sales Representative', '489', '17-Aug-1997 12:00:00 AM', '31', '18')\n"
     ]
    }
   ],
   "source": [
    "merged = pd.merge(staff_manager, sales_branch, left_on='SALES_BRANCH_CODE', how='inner', right_on='SALES_BRANCH_CODE')\n",
    "new_staff = pd.DataFrame(merged[['SALES_STAFF_CODE', 'WORK_PHONE', 'FAX', 'EMAIL', 'FIRST_NAME', 'LAST_NAME', 'POSITION_EN', 'EXTENSION', 'DATE_HIRED', 'SALES_BRANCH_CODE', 'MANAGER_CODE']])\n",
    "new_staff\n",
    "\n",
    "for index, row in new_staff.iterrows():\n",
    "    try:\n",
    "        query = f\"INSERT INTO Sales_staff VALUES ({row['SALES_STAFF_CODE']}, '{row['WORK_PHONE']}', '{row['FAX']}', '{row['EMAIL']}', '{row['FIRST_NAME']}', '{row['LAST_NAME']}', '{row['POSITION_EN']}', '{row['EXTENSION']}', '{row['DATE_HIRED']}', '{row['SALES_BRANCH_CODE']}', '{row['MANAGER_CODE']}')\"\n",
    "        export_cursor.execute(query)\n",
    "    except pyodbc.Error:\n",
    "        print(query)\n",
    "\n",
    "export_conn.commit()\n"
   ]
  },
  {
   "cell_type": "markdown",
   "metadata": {},
   "source": [
    "### ORDER_METHOD"
   ]
  },
  {
   "cell_type": "code",
   "execution_count": 24,
   "metadata": {},
   "outputs": [
    {
     "name": "stdout",
     "output_type": "stream",
     "text": [
      "INSERT INTO Order_method VALUES (1, 'Fax')\n",
      "INSERT INTO Order_method VALUES (2, 'Telephone')\n",
      "INSERT INTO Order_method VALUES (3, 'Mail')\n",
      "INSERT INTO Order_method VALUES (4, 'E-mail')\n",
      "INSERT INTO Order_method VALUES (5, 'Web')\n",
      "INSERT INTO Order_method VALUES (7, 'Sales visit')\n",
      "INSERT INTO Order_method VALUES (8, 'Special')\n"
     ]
    }
   ],
   "source": [
    "new_order_method = order_method[['ORDER_METHOD_CODE', 'ORDER_METHOD_EN']]\n",
    "new_order_method\n",
    "\n",
    "for index, row in new_order_method.iterrows():\n",
    "    try:\n",
    "        query = f\"INSERT INTO Order_method VALUES ({row['ORDER_METHOD_CODE']}, '{row['ORDER_METHOD_EN']}')\"\n",
    "        export_cursor.execute(query)\n",
    "    except pyodbc.Error:\n",
    "        print(query)\n",
    "\n",
    "export_conn.commit()\n"
   ]
  },
  {
   "cell_type": "markdown",
   "metadata": {},
   "source": [
    "### RETURN_REASON"
   ]
  },
  {
   "cell_type": "code",
   "execution_count": 25,
   "metadata": {},
   "outputs": [
    {
     "name": "stdout",
     "output_type": "stream",
     "text": [
      "INSERT INTO Return_reason VALUES (1, 'Defective product')\n",
      "INSERT INTO Return_reason VALUES (2, 'Incomplete product')\n",
      "INSERT INTO Return_reason VALUES (3, 'Wrong product ordered')\n",
      "INSERT INTO Return_reason VALUES (4, 'Wrong product shipped')\n",
      "INSERT INTO Return_reason VALUES (5, 'Unsatisfactory product')\n"
     ]
    }
   ],
   "source": [
    "new_return_reason = return_reason[['RETURN_REASON_CODE', 'RETURN_DESCRIPTION_EN']]\n",
    "new_return_reason\n",
    "\n",
    "for index, row in new_return_reason.iterrows():\n",
    "    try:\n",
    "        query = f\"INSERT INTO Return_reason VALUES ({row['RETURN_REASON_CODE']}, '{row['RETURN_DESCRIPTION_EN']}')\"\n",
    "        export_cursor.execute(query)\n",
    "    except pyodbc.Error:\n",
    "        print(query)\n",
    "\n",
    "export_conn.commit()\n"
   ]
  },
  {
   "cell_type": "markdown",
   "metadata": {},
   "source": [
    "### RETAILER_CONTACT"
   ]
  },
  {
   "cell_type": "code",
   "execution_count": 26,
   "metadata": {},
   "outputs": [],
   "source": [
    "new_retailer_contact = retailer_contact[['RETAILER_CONTACT_CODE', 'FAX', 'E_MAIL', 'RETAILER_SITE_CODE', 'FIRST_NAME', 'LAST_NAME', 'JOB_POSITION_EN', 'EXTENSION', 'GENDER']]\n",
    "new_retailer_contact\n",
    "\n",
    "for index, row in new_retailer_contact.iterrows():\n",
    "    try:\n",
    "        last_name = row['LAST_NAME'].replace(\"'\", \"''\")\n",
    "        query = f\"INSERT INTO Retailer_contact VALUES ({row['RETAILER_CONTACT_CODE']}, '{row['FAX']}', '{row['E_MAIL']}', '{row['RETAILER_SITE_CODE']}', '{row['FIRST_NAME']}', '{last_name}', '{row['JOB_POSITION_EN']}', '{row['EXTENSION']}', '{row['GENDER']}')\"\n",
    "        export_cursor.execute(query)\n",
    "    except pyodbc.Error:\n",
    "        print(query)\n",
    "\n",
    "export_conn.commit()"
   ]
  },
  {
   "cell_type": "markdown",
   "metadata": {},
   "source": [
    "### COURSE"
   ]
  },
  {
   "cell_type": "code",
   "execution_count": 27,
   "metadata": {},
   "outputs": [
    {
     "name": "stdout",
     "output_type": "stream",
     "text": [
      "INSERT INTO Course VALUES (1, 'GO Orientation')\n",
      "INSERT INTO Course VALUES (2, 'GO Communication')\n",
      "INSERT INTO Course VALUES (3, 'GO Sales 1')\n",
      "INSERT INTO Course VALUES (4, 'GO Sales 2')\n",
      "INSERT INTO Course VALUES (5, 'GO Marketing 1')\n",
      "INSERT INTO Course VALUES (6, 'GO Marketing 2')\n",
      "INSERT INTO Course VALUES (7, 'GO Marketing 3')\n",
      "INSERT INTO Course VALUES (8, 'GO Management 1')\n",
      "INSERT INTO Course VALUES (9, 'GO Management 2')\n"
     ]
    }
   ],
   "source": [
    "new_course = pd.DataFrame(course[['COURSE_CODE', 'COURSE_DESCRIPTION']])\n",
    "new_course\n",
    "\n",
    "for index, row in new_course.iterrows():\n",
    "    try:\n",
    "        query = f\"INSERT INTO Course VALUES ({row['COURSE_CODE']}, '{row['COURSE_DESCRIPTION']}')\"\n",
    "        export_cursor.execute(query)\n",
    "    except pyodbc.Error:\n",
    "        print(query)\n",
    "\n",
    "export_conn.commit()\n"
   ]
  },
  {
   "cell_type": "markdown",
   "metadata": {},
   "source": [
    "### SATISFACTION_TYPE"
   ]
  },
  {
   "cell_type": "code",
   "execution_count": 28,
   "metadata": {},
   "outputs": [
    {
     "name": "stdout",
     "output_type": "stream",
     "text": [
      "INSERT INTO Satisfaction_type VALUES (1, 'Not satisfied')\n",
      "INSERT INTO Satisfaction_type VALUES (2, 'Less than satisfied')\n",
      "INSERT INTO Satisfaction_type VALUES (3, 'Satisfied')\n",
      "INSERT INTO Satisfaction_type VALUES (4, 'Very Satisfied')\n",
      "INSERT INTO Satisfaction_type VALUES (5, 'More than satisfied')\n"
     ]
    }
   ],
   "source": [
    "new_satisfaction = pd.DataFrame(satisfaction_type[['SATISFACTION_TYPE_CODE', 'SATISFACTION_TYPE_DESCRIPTION']])\n",
    "new_satisfaction\n",
    "\n",
    "for index, row in new_satisfaction.iterrows():\n",
    "    try:\n",
    "        query = f\"INSERT INTO Satisfaction_type VALUES ({row['SATISFACTION_TYPE_CODE']}, '{row['SATISFACTION_TYPE_DESCRIPTION']}')\"\n",
    "        export_cursor.execute(query)\n",
    "    except pyodbc.Error:\n",
    "        print(query)\n",
    "\n",
    "export_conn.commit()\n",
    "export_cursor.close()"
   ]
  }
 ],
 "metadata": {
  "kernelspec": {
   "display_name": "Python 3",
   "language": "python",
   "name": "python3"
  },
  "language_info": {
   "codemirror_mode": {
    "name": "ipython",
    "version": 3
   },
   "file_extension": ".py",
   "mimetype": "text/x-python",
   "name": "python",
   "nbconvert_exporter": "python",
   "pygments_lexer": "ipython3",
   "version": "3.12.2"
  }
 },
 "nbformat": 4,
 "nbformat_minor": 2
}
