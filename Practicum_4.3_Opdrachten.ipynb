{
 "cells": [
  {
   "cell_type": "markdown",
   "metadata": {},
   "source": [
    "## Setup"
   ]
  },
  {
   "cell_type": "code",
   "execution_count": null,
   "metadata": {},
   "outputs": [],
   "source": [
    "import pandas as pd\n",
    "import sqlite3 as s3\n",
    "import pyodbc\n",
    "import warnings\n",
    "warnings.simplefilter('ignore')\n",
    "\n",
    "DB = {'servername': 'NOAH\\SQLEXPRESS01',\n",
    "      'database': '4.3 db'}\n",
    "\n",
    "export_conn = pyodbc.connect('DRIVER={SQL SERVER};SERVER=' + DB['servername'] + \n",
    "                            ';DATABASE=' + DB['database'] + ';Trusted_Connection=yes')\n",
    "export_cursor = export_conn.cursor()\n",
    "export_cursor\n",
    "\n",
    "go_sales = s3.connect('go_sales.sqlite')\n",
    "go_staff = s3.connect('go_staff.sqlite')\n",
    "go_crm = s3.connect('go_crm.sqlite')\n",
    "\n",
    "product = pd.read_sql_query('SELECT * FROM product', go_sales)\n",
    "product_type = pd.read_sql_query('SELECT * FROM product_type', go_sales)\n",
    "sales_staff = pd.read_sql_query('SELECT * FROM sales_staff', go_sales)\n",
    "sales_branch = pd.read_sql_query('SELECT * FROM sales_branch', go_sales)\n",
    "staff_manager = pd.read_sql_query('SELECT * FROM sales_staff', go_staff)\n",
    "order_method = pd.read_sql_query('SELECT * FROM order_method', go_sales)\n",
    "return_reason = pd.read_sql_query('SELECT * FROM return_reason', go_sales)\n",
    "retailer_contact = pd.read_sql_query('SELECT * FROM retailer_contact', go_crm)"
   ]
  },
  {
   "cell_type": "markdown",
   "metadata": {},
   "source": [
    "### PRODUCT"
   ]
  },
  {
   "cell_type": "code",
   "execution_count": null,
   "metadata": {},
   "outputs": [],
   "source": [
    "merged = pd.merge(product, product_type, left_on='PRODUCT_TYPE_CODE', how='inner', right_on='PRODUCT_TYPE_CODE')\n",
    "new_product = pd.DataFrame(merged[['PRODUCT_NUMBER', 'PRODUCT_NAME', 'DESCRIPTION', 'INTRODUCTION_DATE', 'PRODUCT_TYPE_CODE', 'PRODUCTION_COST', 'MARGIN', 'PRODUCT_IMAGE', 'LANGUAGE']])\n",
    "new_product\n",
    "\n",
    "for index, row in new_product.iterrows():\n",
    "    try:\n",
    "        query = f\"INSERT INTO product VALUES ({row['PRODUCT_NUMBER']}, '{row['PRODUCT_NAME']}', '{row['DESCRIPTION']}', '{row['INTRODUCTION_DATE']}', '{row['PRODUCT_TYPE_CODE']}', '{row['PRODUCTION_COST']}', '{row['MARGIN']}', '{row['PRODUCT_IMAGE']}', '{row['LANGUAGE']}')\"\n",
    "        export_cursor.execute(query)\n",
    "    except pyodbc.Error:\n",
    "        print(query)\n",
    "\n",
    "export_conn.commit()\n",
    "export_cursor.close()"
   ]
  },
  {
   "cell_type": "markdown",
   "metadata": {},
   "source": [
    "### SALES_STAFF"
   ]
  },
  {
   "cell_type": "code",
   "execution_count": null,
   "metadata": {},
   "outputs": [],
   "source": [
    "merged = pd.merge(staff_manager, sales_branch, left_on='SALES_BRANCH_CODE', how='inner', right_on='SALES_BRANCH_CODE')\n",
    "new_staff = pd.DataFrame(merged[['SALES_STAFF_CODE', 'WORK_PHONE', 'FAX', 'EMAIL', 'FIRST_NAME', 'LAST_NAME', 'POSITION_EN', 'EXTENSION', 'DATE_HIRED', 'SALES_BRANCH_CODE', 'MANAGER_CODE']])\n",
    "new_staff\n",
    "\n",
    "for index, row in new_staff.iterrows():\n",
    "    try:\n",
    "        query = f\"INSERT INTO sales_staff VALUES ({row['SALES_STAFF_CODE']}, '{row['WORK_PHONE']}', '{row['FAX']}', '{row['EMAIL']}', '{row['FIRST_NAME']}', '{row['LAST_NAME']}', '{row['POSITION_EN']}', '{row['EXTENSION']}', '{row['DATE_HIRED']}', '{row['SALES_BRANCH_CODE']}', '{row['MANAGER_CODE']}')\"\n",
    "        export_cursor.execute(query)\n",
    "    except pyodbc.Error:\n",
    "        print(query)\n",
    "\n",
    "export_conn.commit()\n",
    "export_cursor.close()"
   ]
  },
  {
   "cell_type": "markdown",
   "metadata": {},
   "source": [
    "### ORDER_METHOD"
   ]
  },
  {
   "cell_type": "code",
   "execution_count": null,
   "metadata": {},
   "outputs": [],
   "source": [
    "new_order_method = order_method[['ORDER_METHOD_CODE', 'ORDER_METHOD_EN']]\n",
    "new_order_method\n",
    "\n",
    "for index, row in new_order_method.iterrows():\n",
    "    try:\n",
    "        query = f\"INSERT INTO order_method VALUES ({row['ORDER_METHOD_CODE']}, '{row['ORDER_METHOD_EN']}')\"\n",
    "        export_cursor.execute(query)\n",
    "    except pyodbc.Error:\n",
    "        print(query)\n",
    "\n",
    "export_conn.commit()\n",
    "export_cursor.close()"
   ]
  },
  {
   "cell_type": "markdown",
   "metadata": {},
   "source": [
    "### RETURN_REASON"
   ]
  },
  {
   "cell_type": "code",
   "execution_count": null,
   "metadata": {},
   "outputs": [],
   "source": [
    "new_return_reason = return_reason[['RETURN_REASON_CODE', 'RETURN_DESCRIPTION_EN']]\n",
    "new_return_reason\n",
    "\n",
    "for index, row in new_return_reason.iterrows():\n",
    "    try:\n",
    "        query = f\"INSERT INTO return_reason VALUES ({row['RETURN_REASON_CODE']}, '{row['RETURN_DESCRIPTION_EN']}')\"\n",
    "        export_cursor.execute(query)\n",
    "    except pyodbc.Error:\n",
    "        print(query)\n",
    "\n",
    "export_conn.commit()\n",
    "export_cursor.close()"
   ]
  },
  {
   "cell_type": "markdown",
   "metadata": {},
   "source": [
    "### RETAILER_CONTACT"
   ]
  },
  {
   "cell_type": "code",
   "execution_count": null,
   "metadata": {},
   "outputs": [],
   "source": [
    "new_retailer_contact = retailer_contact[['RETAILER_CONTACT_CODE', 'FAX', 'E_MAIL', 'RETAILER_SITE_CODE', 'FIRST_NAME', 'LAST_NAME', 'JOB_POSITION_EN', 'EXTENSION', 'GENDER']]\n",
    "new_retailer_contact\n",
    "\n",
    "for index, row in new_retailer_contact.iterrows():\n",
    "    try:\n",
    "        last_name = row['LAST_NAME'].replace(\"'\", \"''\")\n",
    "        query = f\"INSERT INTO return_reason VALUES ({row['RETAILER_CONTACT_CODE']}, '{row['FAX']}', '{row['EMAIL']}', '{row['RETAILER_SITE_CODE']}', '{row['FIRST_NAME']}', '{last_name}', '{row['JOB_POSITION_EN']}', '{row['EXTENSION']}', '{row['GENDER']}')\"\n",
    "        export_cursor.execute(query)\n",
    "    except pyodbc.Error:\n",
    "        print(query)\n",
    "\n",
    "export_conn.commit()\n",
    "export_cursor.close()"
   ]
  }
 ],
 "metadata": {
  "kernelspec": {
   "display_name": "Python 3",
   "language": "python",
   "name": "python3"
  },
  "language_info": {
   "codemirror_mode": {
    "name": "ipython",
    "version": 3
   },
   "file_extension": ".py",
   "mimetype": "text/x-python",
   "name": "python",
   "nbconvert_exporter": "python",
   "pygments_lexer": "ipython3",
   "version": "3.12.2"
  }
 },
 "nbformat": 4,
 "nbformat_minor": 2
}
