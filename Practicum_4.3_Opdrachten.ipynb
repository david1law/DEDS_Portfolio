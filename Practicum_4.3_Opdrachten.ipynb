{
 "cells": [
  {
   "cell_type": "markdown",
   "metadata": {},
   "source": [
    "## Setup"
   ]
  },
  {
   "cell_type": "code",
   "execution_count": null,
   "metadata": {},
   "outputs": [],
   "source": [
    "import pandas as pd\n",
    "import sqlite3 as s3\n",
    "import pyodbc\n",
    "from datetime import datetime\n",
    "import warnings\n",
    "warnings.simplefilter('ignore')\n",
    "\n",
    "DB = {'servername': 'NOAH\\SQLEXPRESS01',\n",
    "      'database': '4.3 db3'}\n",
    "\n",
    "export_conn = pyodbc.connect('DRIVER={SQL SERVER};SERVER=' + DB['servername'] + ';DATABASE=' + DB['database'] + ';Trusted_Connection=yes')\n",
    "export_cursor = export_conn.cursor()\n",
    "export_cursor\n",
    "\n",
    "go_sales = s3.connect('go_sales.sqlite')\n",
    "go_staff = s3.connect('go_staff.sqlite')\n",
    "go_crm = s3.connect('go_crm.sqlite')\n",
    "\n",
    "product = pd.read_sql_query('SELECT * FROM product', go_sales)\n",
    "product_type = pd.read_sql_query('SELECT * FROM product_type', go_sales)\n",
    "sales_staff = pd.read_sql_query('SELECT * FROM sales_staff', go_sales)\n",
    "sales_branch = pd.read_sql_query('SELECT * FROM sales_branch', go_sales)\n",
    "staff_manager = pd.read_sql_query('SELECT * FROM sales_staff', go_staff)\n",
    "order_method = pd.read_sql_query('SELECT * FROM order_method', go_sales)\n",
    "return_reason = pd.read_sql_query('SELECT * FROM return_reason', go_sales)\n",
    "retailer_contact = pd.read_sql_query('SELECT * FROM retailer_contact', go_crm)\n",
    "course = pd.read_sql_query('SELECT * FROM course', go_staff)\n",
    "satisfaction_type = pd.read_sql_query('SELECT * FROM satisfaction_type', go_staff)\n",
    "order_details = pd.read_sql_query('SELECT * FROM order_details', go_sales)\n",
    "returned_item = pd.read_sql_query('SELECT * FROM returned_item', go_sales)\n",
    "order_header = pd.read_sql_query('SELECT * FROM order_header', go_sales)\n",
    "sales_target = pd.read_sql_query('SELECT * FROM sales_targetDATA', go_sales)\n",
    "training = pd.read_sql_query('SELECT * FROM training', go_staff)\n",
    "satisfaction = pd.read_sql_query('SELECT * FROM satisfaction', go_staff)\n",
    "inventory = pd.read_csv('GO_SALES_INVENTORY_LEVELSData.csv')\n",
    "product_forecast = pd.read_csv('GO_SALES_PRODUCT_FORECASTData.csv')"
   ]
  },
  {
   "cell_type": "code",
   "execution_count": null,
   "metadata": {},
   "outputs": [],
   "source": [
    "oude_inventory = inventory.reset_index()\n",
    "nieuwste_inventory = oude_inventory.shift(axis = 1)\n",
    "nieuwste_inventory"
   ]
  },
  {
   "cell_type": "markdown",
   "metadata": {},
   "source": [
    "### PRODUCT"
   ]
  },
  {
   "cell_type": "code",
   "execution_count": null,
   "metadata": {},
   "outputs": [],
   "source": [
    "merged = pd.merge(product, product_type, left_on='PRODUCT_TYPE_CODE', how='inner', right_on='PRODUCT_TYPE_CODE')\n",
    "new_product = merged[['PRODUCT_NUMBER', 'PRODUCT_NAME', 'DESCRIPTION', 'INTRODUCTION_DATE', 'PRODUCT_TYPE_CODE', 'PRODUCTION_COST', 'MARGIN', 'PRODUCT_IMAGE', 'LANGUAGE']]\n",
    "new_product\n",
    "\n",
    "for index, row in new_product.iterrows():\n",
    "    try:\n",
    "        query = f\"INSERT INTO Product VALUES ({row['PRODUCT_NUMBER']}, '{row['PRODUCT_NAME'].replace(\"'\", \"''\")}', '{row['DESCRIPTION'].replace(\"'\", \"''\")}', '{row['INTRODUCTION_DATE']}', {row['PRODUCT_TYPE_CODE']}, '{row['PRODUCTION_COST']}', '{row['MARGIN']}', '{row['PRODUCT_IMAGE']}', '{row['LANGUAGE']}')\"\n",
    "        export_cursor.execute(query)\n",
    "    except pyodbc.Error as e:\n",
    "        print(e)\n",
    "        print(query)\n",
    "\n",
    "export_conn.commit()"
   ]
  },
  {
   "cell_type": "markdown",
   "metadata": {},
   "source": [
    "### SALES_STAFF"
   ]
  },
  {
   "cell_type": "code",
   "execution_count": null,
   "metadata": {},
   "outputs": [],
   "source": [
    "merged = pd.merge(staff_manager, sales_branch, left_on='SALES_BRANCH_CODE', how='inner', right_on='SALES_BRANCH_CODE')\n",
    "new_staff = merged[['SALES_STAFF_CODE', 'WORK_PHONE', 'FAX', 'EMAIL', 'FIRST_NAME', 'LAST_NAME', 'POSITION_EN', 'EXTENSION', 'DATE_HIRED', 'SALES_BRANCH_CODE', 'MANAGER_CODE']]\n",
    "new_staff['STAFF_SK'] = range(1, len(new_staff) + 1)\n",
    "new_staff.set_index('STAFF_SK', inplace = True)\n",
    "new_staff.insert(0, 'TIMESTAMP', datetime.now().replace(microsecond=0))\n",
    "\n",
    "for index, row in new_staff.iterrows():\n",
    "    try:\n",
    "        query = f\"INSERT INTO Sales_staff VALUES ({row.name}, '{row['TIMESTAMP']}', {row['SALES_STAFF_CODE']}, '{row['WORK_PHONE']}', '{row['FAX']}', '{row['EMAIL']}', '{row['FIRST_NAME']}', '{row['LAST_NAME'].replace(\"'\", \"''\")}', '{row['POSITION_EN']}', '{row['EXTENSION']}', '{row['DATE_HIRED']}', '{row['SALES_BRANCH_CODE']}', '{row['MANAGER_CODE']}')\"\n",
    "        export_cursor.execute(query)\n",
    "    except pyodbc.Error as e:\n",
    "        print(e)\n",
    "        print(query)\n",
    "\n",
    "export_conn.commit()"
   ]
  },
  {
   "cell_type": "markdown",
   "metadata": {},
   "source": [
    "### ORDER_METHOD"
   ]
  },
  {
   "cell_type": "code",
   "execution_count": null,
   "metadata": {},
   "outputs": [],
   "source": [
    "new_order_method = order_method[['ORDER_METHOD_CODE', 'ORDER_METHOD_EN']]\n",
    "new_order_method\n",
    "\n",
    "for index, row in new_order_method.iterrows():\n",
    "    try:\n",
    "        query = f\"INSERT INTO Order_method VALUES ({row['ORDER_METHOD_CODE']}, '{row['ORDER_METHOD_EN']}')\"\n",
    "        export_cursor.execute(query)\n",
    "    except pyodbc.Error:\n",
    "        print(query)\n",
    "\n",
    "export_conn.commit()\n"
   ]
  },
  {
   "cell_type": "markdown",
   "metadata": {},
   "source": [
    "### RETURN_REASON"
   ]
  },
  {
   "cell_type": "code",
   "execution_count": null,
   "metadata": {},
   "outputs": [],
   "source": [
    "new_return_reason = return_reason[['RETURN_REASON_CODE', 'RETURN_DESCRIPTION_EN']]\n",
    "new_return_reason\n",
    "\n",
    "for index, row in new_return_reason.iterrows():\n",
    "    try:\n",
    "        query = f\"INSERT INTO Return_reason VALUES ({row['RETURN_REASON_CODE']}, '{row['RETURN_DESCRIPTION_EN']}')\"\n",
    "        export_cursor.execute(query)\n",
    "    except pyodbc.Error:\n",
    "        print(query)\n",
    "\n",
    "export_conn.commit()"
   ]
  },
  {
   "cell_type": "markdown",
   "metadata": {},
   "source": [
    "### RETAILER_CONTACT"
   ]
  },
  {
   "cell_type": "code",
   "execution_count": null,
   "metadata": {},
   "outputs": [],
   "source": [
    "new_retailer_contact = retailer_contact[['RETAILER_CONTACT_CODE', 'FAX', 'E_MAIL', 'RETAILER_SITE_CODE', 'FIRST_NAME', 'LAST_NAME', 'JOB_POSITION_EN', 'EXTENSION', 'GENDER']]\n",
    "new_retailer_contact\n",
    "\n",
    "for index, row in new_retailer_contact.iterrows():\n",
    "    try:\n",
    "        last_name = row['LAST_NAME'].replace(\"'\", \"''\")\n",
    "        query = f\"INSERT INTO Retailer_contact VALUES ({row['RETAILER_CONTACT_CODE']}, '{row['FAX']}', '{row['E_MAIL']}', '{row['RETAILER_SITE_CODE']}', '{row['FIRST_NAME']}', '{last_name}', '{row['JOB_POSITION_EN']}', '{row['EXTENSION']}', '{row['GENDER']}')\"\n",
    "        export_cursor.execute(query)\n",
    "    except pyodbc.Error:\n",
    "        print(query)\n",
    "\n",
    "export_conn.commit()"
   ]
  },
  {
   "cell_type": "markdown",
   "metadata": {},
   "source": [
    "### COURSE"
   ]
  },
  {
   "cell_type": "code",
   "execution_count": null,
   "metadata": {},
   "outputs": [],
   "source": [
    "new_course = course[['COURSE_CODE', 'COURSE_DESCRIPTION']]\n",
    "new_course\n",
    "\n",
    "for index, row in new_course.iterrows():\n",
    "    try:\n",
    "        query = f\"INSERT INTO Course VALUES ({row['COURSE_CODE']}, '{row['COURSE_DESCRIPTION']}')\"\n",
    "        export_cursor.execute(query)\n",
    "    except pyodbc.Error:\n",
    "        print(query)\n",
    "\n",
    "export_conn.commit()"
   ]
  },
  {
   "cell_type": "markdown",
   "metadata": {},
   "source": [
    "### SATISFACTION_TYPE"
   ]
  },
  {
   "cell_type": "code",
   "execution_count": null,
   "metadata": {},
   "outputs": [],
   "source": [
    "new_satisfaction = satisfaction_type[['SATISFACTION_TYPE_CODE', 'SATISFACTION_TYPE_DESCRIPTION']]\n",
    "new_satisfaction\n",
    "\n",
    "for index, row in new_satisfaction.iterrows():\n",
    "    try:\n",
    "        query = f\"INSERT INTO Satisfaction_type VALUES ({row['SATISFACTION_TYPE_CODE']}, '{row['SATISFACTION_TYPE_DESCRIPTION']}')\"\n",
    "        export_cursor.execute(query)\n",
    "    except pyodbc.Error:\n",
    "        print(query)\n",
    "\n",
    "export_conn.commit()\n"
   ]
  },
  {
   "cell_type": "markdown",
   "metadata": {},
   "source": [
    "### ORDER_DETAILS"
   ]
  },
  {
   "cell_type": "code",
   "execution_count": null,
   "metadata": {},
   "outputs": [],
   "source": [
    "merged = pd.merge(order_details, order_header, left_on='ORDER_NUMBER', how='inner', right_on='ORDER_NUMBER')\n",
    "merged_order = pd.merge(merged, returned_item, left_on='ORDER_DETAIL_CODE', how='inner', right_on='ORDER_DETAIL_CODE')\n",
    "new_order = merged_order[['ORDER_DETAIL_CODE', 'RETURN_CODE', 'ORDER_NUMBER', 'RETURN_DATE', 'RETURN_QUANTITY', 'UNIT_COST', 'UNIT_PRICE', 'ORDER_DATE', 'RETURN_REASON_CODE', 'PRODUCT_NUMBER', 'RETAILER_CONTACT_CODE', 'RETAILER_NAME', 'RETAILER_SITE_CODE', 'SALES_STAFF_CODE', 'ORDER_METHOD_CODE']]\n",
    "new_order['ORDER_DETAILS_SK'] = range(1, len(new_order) + 1)\n",
    "new_order.set_index('ORDER_DETAILS_SK', inplace = True)\n",
    "new_order.insert(0, 'TIMESTAMP', datetime.now().replace(microsecond=0))\n",
    "new_order\n",
    "\n",
    "for index, row in new_order.iterrows():\n",
    "    try:\n",
    "        query = f\"INSERT INTO Order_details VALUES ({row.name}, '{row['TIMESTAMP']}', {row['ORDER_DETAIL_CODE']}, '{row['RETURN_CODE']}, '{row['ORDER_NUMBER']}, '{row['RETURN_DATE']}', {row['RETURN_QUANTITY']}, {row['UNIT_COST']}, {row['UNIT_PRICE']}, '{row['ORDER_DATE']}', {row['RETURN_REASON_CODE']}, {row['PRODUCT_NUMBER']}, {row['RETAILER_CONTACT_CODE']}, '{row['RETAILER_NAME']}', {row['RETAILER_SITE_CODE']}, {row['SALES_STAFF_CODE']}, {row['ORDER_METHOD_CODE']})\"\n",
    "        export_cursor.execute(query)\n",
    "    except pyodbc.Error as e:\n",
    "        print(e)\n",
    "        print(query)\n",
    "\n",
    "export_conn.commit()"
   ]
  },
  {
   "cell_type": "markdown",
   "metadata": {},
   "source": [
    "### PRODUCT_FORECAST"
   ]
  },
  {
   "cell_type": "code",
   "execution_count": null,
   "metadata": {},
   "outputs": [],
   "source": [
    "new_product_forecast = product_forecast[['YEAR', 'MONTH', 'EXPECTED_VOLUME', 'PRODUCT_NUMBER']]\n",
    "new_product_forecast.insert(0, 'PROD_NUMBER_YEAR_MONTH', new_product_forecast['YEAR'].astype(str) + '-' + new_product_forecast['MONTH'].astype(str) + '-' + new_product_forecast['PRODUCT_NUMBER'].astype(str))\n",
    "new_product_forecast['PRODUCT_FORECAST_SK'] = range(1, len(new_product_forecast) + 1)\n",
    "new_product_forecast.set_index('PRODUCT_FORECAST_SK', inplace = True)\n",
    "new_product_forecast.insert(0, 'TIMESTAMP', datetime.now().replace(microsecond=0))\n",
    "new_product_forecast\n",
    "\n",
    "for index, row in new_product_forecast.iterrows():\n",
    "    try:\n",
    "        query = f\"INSERT INTO Product_forecast VALUES ({row.name}, '{row['TIMESTAMP']}', {row['YEAR']}, {row['MONTH']}, {row['EXPECTED_VOLUME']}, {row['PRODUCT_NUMBER']})\"\n",
    "        export_cursor.execute(query)\n",
    "    except pyodbc.Error as e:\n",
    "        print(e)\n",
    "        print(query)\n",
    "\n",
    "export_conn.commit()"
   ]
  },
  {
   "cell_type": "markdown",
   "metadata": {},
   "source": [
    "### INVENTORY_LEVELS"
   ]
  },
  {
   "cell_type": "code",
   "execution_count": null,
   "metadata": {},
   "outputs": [],
   "source": [
    "new_inventory = nieuwste_inventory[['INVENTORY_YEAR', 'INVENTORY_MONTH', 'PRODUCT_NUMBER', 'INVENTORY_COUNT']]\n",
    "new_inventory.insert(0, 'YEAR_MONTH_PROD_NUMBER', new_inventory['INVENTORY_YEAR'].astype(str) + '-' + new_inventory['INVENTORY_MONTH'].astype(str) + '-' + new_inventory['PRODUCT_NUMBER'].astype(str))\n",
    "new_inventory['INVENTORY_SK'] = range(1, len(new_inventory) + 1)\n",
    "new_inventory.set_index('INVENTORY_SK', inplace = True)\n",
    "new_inventory.insert(0, 'TIMESTAMP', datetime.now().replace(microsecond=0))\n",
    "new_inventory\n",
    "\n",
    "for index, row in new_inventory.iterrows():\n",
    "    try:\n",
    "        row = row.fillna(0)\n",
    "        query = f\"INSERT INTO INVENTORY_LEVELS VALUES ({row.name}, '{row['TIMESTAMP']}', {row['INVENTORY_YEAR']}, {row['INVENTORY_MONTH']}, {row['PRODUCT_NUMBER']}, {row['INVENTORY_COUNT']})\"\n",
    "        export_cursor.execute(query)\n",
    "    except pyodbc.Error as e:\n",
    "        print(e)\n",
    "        print(query)\n",
    "\n",
    "export_conn.commit()"
   ]
  },
  {
   "cell_type": "markdown",
   "metadata": {},
   "source": [
    "### SALES_TARGET_DATA"
   ]
  },
  {
   "cell_type": "code",
   "execution_count": null,
   "metadata": {},
   "outputs": [],
   "source": [
    "new_sales_target = sales_target[[ 'SALES_YEAR', 'SALES_PERIOD', 'SALES_STAFF_CODE', 'PRODUCT_NUMBER', 'SALES_TARGET', 'RETAILER_CODE', 'Id']]\n",
    "new_sales_target = new_sales_target.rename(columns = {'Id' : 'ID'})\n",
    "new_sales_target['SALES_TARGET_DATA_SK'] = range(1, len(new_sales_target) + 1)\n",
    "new_sales_target.set_index('SALES_TARGET_DATA_SK', inplace = True)\n",
    "new_sales_target.insert(0, 'TIMESTAMP', datetime.now().replace(microsecond=0))\n",
    "new_sales_target\n",
    "\n",
    "for index, row in new_sales_target.iterrows():\n",
    "    try:\n",
    "        query = f\"INSERT INTO Sales_target_data VALUES ({row.name}, '{row['TIMESTAMP']}', {row['SALES_YEAR']}, {row['SALES_PERIOD']}, {row['SALES_STAFF_CODE']}, {row['SALES_TARGET']}, {row['RETAILER_CODE']},  {row['ID']})\"\n",
    "        export_cursor.execute(query)\n",
    "    except pyodbc.Error as e:\n",
    "        print(e)\n",
    "        print(query)\n",
    "\n",
    "export_conn.commit()"
   ]
  },
  {
   "cell_type": "markdown",
   "metadata": {},
   "source": [
    "### TRAINING"
   ]
  },
  {
   "cell_type": "code",
   "execution_count": null,
   "metadata": {},
   "outputs": [],
   "source": [
    "new_training = training[['COURSE_CODE', 'YEAR', 'SALES_STAFF_CODE']]\n",
    "new_training['TRAINING_SK'] = range(1, len(new_training) + 1)\n",
    "new_training.set_index('TRAINING_SK', inplace = True)\n",
    "new_training.insert(0, 'TIMESTAMP', datetime.now().replace(microsecond=0))\n",
    "new_training\n",
    "\n",
    "for index, row in new_training.iterrows():\n",
    "    try:\n",
    "        query = f\"INSERT INTO Training VALUES ({row.name}, '{row['TIMESTAMP']}', {row['COURSE_CODE']}, {row['YEAR']}, {row['SALES_STAFF_CODE']})\"\n",
    "        export_cursor.execute(query)\n",
    "    except pyodbc.Error:\n",
    "        print(query)\n",
    "\n",
    "export_conn.commit()"
   ]
  },
  {
   "cell_type": "markdown",
   "metadata": {},
   "source": [
    "### SATISFACTION"
   ]
  },
  {
   "cell_type": "code",
   "execution_count": null,
   "metadata": {},
   "outputs": [],
   "source": [
    "new_satisfaction = satisfaction[['SATISFACTION_TYPE_CODE', 'YEAR', 'SALES_STAFF_CODE']]\n",
    "new_satisfaction['SATISFACTION_SK'] = range(1, len(new_satisfaction) + 1)\n",
    "new_satisfaction.set_index('SATISFACTION_SK', inplace = True)\n",
    "new_satisfaction.insert(0, 'TIMESTAMP', datetime.now().replace(microsecond=0))\n",
    "new_satisfaction\n",
    "\n",
    "for index, row in new_satisfaction.iterrows():\n",
    "    try:\n",
    "        query = f\"INSERT INTO Satisfaction VALUES ({row.name}, '{row['TIMESTAMP']}', {row['SATISFACTION_TYPE_CODE']}, {row['YEAR']}, {row['SALES_STAFF_CODE']})\"\n",
    "        export_cursor.execute(query)\n",
    "    except pyodbc.Error:\n",
    "        print(query)\n",
    "\n",
    "export_conn.commit()"
   ]
  }
 ],
 "metadata": {
  "kernelspec": {
   "display_name": "Python 3",
   "language": "python",
   "name": "python3"
  },
  "language_info": {
   "codemirror_mode": {
    "name": "ipython",
    "version": 3
   },
   "file_extension": ".py",
   "mimetype": "text/x-python",
   "name": "python",
   "nbconvert_exporter": "python",
   "pygments_lexer": "ipython3",
   "version": "3.12.2"
  }
 },
 "nbformat": 4,
 "nbformat_minor": 2
}
